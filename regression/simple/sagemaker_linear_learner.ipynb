{
 "cells": [
  {
   "cell_type": "code",
   "execution_count": 27,
   "id": "623944e3",
   "metadata": {},
   "outputs": [],
   "source": [
    "import pandas as pd\n",
    "import numpy as np\n",
    "import seaborn as sns\n",
    "import boto3\n",
    "import sagemaker\n",
    "import matplotlib.pyplot as plt\n",
    "import os\n",
    "import io\n",
    "import sagemaker.amazon.common as smac # sagemaker common libary"
   ]
  },
  {
   "cell_type": "markdown",
   "id": "17d86ca0",
   "metadata": {},
   "source": [
    "### 1. Data preparation"
   ]
  },
  {
   "cell_type": "code",
   "execution_count": 7,
   "id": "ffbd9c04",
   "metadata": {},
   "outputs": [
    {
     "name": "stdout",
     "output_type": "stream",
     "text": [
      "<class 'pandas.core.frame.DataFrame'>\n",
      "RangeIndex: 500 entries, 0 to 499\n",
      "Data columns (total 2 columns):\n",
      " #   Column       Non-Null Count  Dtype  \n",
      "---  ------       --------------  -----  \n",
      " 0   Temperature  500 non-null    float64\n",
      " 1   Revenue      500 non-null    float64\n",
      "dtypes: float64(2)\n",
      "memory usage: 7.9 KB\n"
     ]
    }
   ],
   "source": [
    "ice_screen_df = pd.read_csv('datasets/IceCreamData.csv')\n",
    "ice_screen_df.info()"
   ]
  },
  {
   "cell_type": "code",
   "execution_count": 160,
   "id": "3fdd0390",
   "metadata": {},
   "outputs": [],
   "source": [
    "x_column = ice_screen_df[['Temperature']]\n",
    "y_column = ice_screen_df[['Revenue']]\n",
    "x_y_columns = ice_screen_df[['Temperature', 'Revenue']]\n",
    "x = np.array(x_column).astype('float32')\n",
    "y = np.array(y_column).astype('float32')"
   ]
  },
  {
   "cell_type": "code",
   "execution_count": 161,
   "id": "48bd0a83",
   "metadata": {},
   "outputs": [],
   "source": [
    "# split data into train and test\n",
    "x_train, x_test, y_train, y_test = train_test_split(x, y, test_size=0.2)"
   ]
  },
  {
   "cell_type": "code",
   "execution_count": 210,
   "id": "54a98437",
   "metadata": {},
   "outputs": [
    {
     "name": "stdout",
     "output_type": "stream",
     "text": [
      "x_train (400, 1), x_teste (100, 1), y_train (400, 1), y_test (100, 1)\n"
     ]
    }
   ],
   "source": [
    "print('x_train {0}, x_teste {1}, y_train {2}, y_test {3}'.format(x_train.shape, x_test.shape, y_train.shape, x_test.shape))"
   ]
  },
  {
   "cell_type": "markdown",
   "id": "52297689",
   "metadata": {},
   "source": [
    "### 2. SageMaker configuration"
   ]
  },
  {
   "cell_type": "code",
   "execution_count": 163,
   "id": "63bf6284",
   "metadata": {},
   "outputs": [],
   "source": [
    "sagemaker_session = sagemaker.Session()"
   ]
  },
  {
   "cell_type": "code",
   "execution_count": 183,
   "id": "a6ee3192",
   "metadata": {},
   "outputs": [],
   "source": [
    "bucket = 'varsmetagen-dev-static' # bucket need to be created beforehand\n",
    "prefix = 'teste/tania/linear_learner' # prefix is the subfolder within the bucket."
   ]
  },
  {
   "cell_type": "code",
   "execution_count": 184,
   "id": "99cf108d",
   "metadata": {},
   "outputs": [
    {
     "name": "stdout",
     "output_type": "stream",
     "text": [
      "arn:aws:iam::078345292105:role/service-role/AmazonSageMaker-ExecutionRole-20220519T180533\n"
     ]
    }
   ],
   "source": [
    "role = sagemaker.get_execution_role()\n",
    "print(role)"
   ]
  },
  {
   "cell_type": "code",
   "execution_count": 185,
   "id": "3a21bd2c",
   "metadata": {},
   "outputs": [],
   "source": [
    "#study=((0.5,0),(0.75,0),(1.0,0),(1.25,0),(1.50,0),(1.75,0),(2.0,0),(2.25,1),(2.5,0),(2.75,1),(3.0,0),(3.25,1),(3.5,0),(4.0,1),(4.25,1),(4.5,1),(4.75,1),(5.0,1),(5.5,1))\n",
    "#a = np.array(study).astype('float32')\n",
    "#labels = a[:,1]\n",
    "#buf = io.BytesIO()\n",
    "#smac.write_numpy_to_dense_tensor(buf, a, labels)\n",
    "#buf.seek(0)"
   ]
  },
  {
   "cell_type": "markdown",
   "id": "5ab1aa70",
   "metadata": {},
   "source": [
    "### 3. Converts the train data to recordIO and uploads to S3"
   ]
  },
  {
   "cell_type": "code",
   "execution_count": 186,
   "id": "4d3a5536",
   "metadata": {},
   "outputs": [
    {
     "data": {
      "text/plain": [
       "0"
      ]
     },
     "execution_count": 186,
     "metadata": {},
     "output_type": "execute_result"
    }
   ],
   "source": [
    "# Code below converts the data in numpy array format to RecordIO format\n",
    "# This is one of the formats accepted by Sagemaker Linear Learner \n",
    "# the code below will create an in-memory byte array \n",
    "# When you write to in-memory byte arrays, it increments 1 every time you write to it\n",
    "buf = io.BytesIO()\n",
    "smac.write_numpy_to_dense_tensor(buf, x_train, y_train.reshape(-1,))\n",
    "buf.seek(0) "
   ]
  },
  {
   "cell_type": "code",
   "execution_count": 187,
   "id": "13dca577",
   "metadata": {},
   "outputs": [
    {
     "name": "stdout",
     "output_type": "stream",
     "text": [
      "uploaded training data location: s3://varsmetagen-dev-static/teste/tania/linear_learner/train/linear-train-data\n"
     ]
    }
   ],
   "source": [
    "# Code to upload RecordIO data to S3 to be accessed later for training\n",
    "key = 'linear-train-data'\n",
    "boto3.resource('s3').Bucket(bucket).Object(os.path.join(prefix, 'train', key)).upload_fileobj(buf)\n",
    "s3_train_data = 's3://{}/{}/train/{}'.format(bucket, prefix, key)\n",
    "print('uploaded training data location: {}'.format(s3_train_data))"
   ]
  },
  {
   "cell_type": "markdown",
   "id": "edfe5d58",
   "metadata": {},
   "source": [
    "### 4. Converts the test data to recordIO and uploads to S3"
   ]
  },
  {
   "cell_type": "code",
   "execution_count": 188,
   "id": "1e2a3b39",
   "metadata": {},
   "outputs": [
    {
     "data": {
      "text/plain": [
       "0"
      ]
     },
     "execution_count": 188,
     "metadata": {},
     "output_type": "execute_result"
    }
   ],
   "source": [
    "buf = io.BytesIO()\n",
    "smac.write_numpy_to_dense_tensor(buf, x_test, y_test.reshape(-1,))\n",
    "buf.seek(0) "
   ]
  },
  {
   "cell_type": "code",
   "execution_count": 189,
   "id": "c79d48ee",
   "metadata": {},
   "outputs": [
    {
     "name": "stdout",
     "output_type": "stream",
     "text": [
      "uploaded training data location: s3://varsmetagen-dev-static/teste/tania/linear_learner/test/linear-test-data\n"
     ]
    }
   ],
   "source": [
    "# Code to upload RecordIO data to S3 to be accessed later for testing\n",
    "key = 'linear-test-data'\n",
    "boto3.resource('s3').Bucket(bucket).Object(os.path.join(prefix, 'test', key)).upload_fileobj(buf)\n",
    "s3_train_data = 's3://{}/{}/test/{}'.format(bucket, prefix, key)\n",
    "print('uploaded training data location: {}'.format(s3_train_data))"
   ]
  },
  {
   "cell_type": "markdown",
   "id": "142c2fc4",
   "metadata": {},
   "source": [
    "### 5. Setting the model"
   ]
  },
  {
   "cell_type": "code",
   "execution_count": 190,
   "id": "fe94a642",
   "metadata": {},
   "outputs": [],
   "source": [
    "output_location = 's3://{}/{}/output'.format(bucket, prefix)"
   ]
  },
  {
   "cell_type": "code",
   "execution_count": 191,
   "id": "b1f94e5e",
   "metadata": {},
   "outputs": [
    {
     "data": {
      "text/plain": [
       "'sa-east-1'"
      ]
     },
     "execution_count": 191,
     "metadata": {},
     "output_type": "execute_result"
    }
   ],
   "source": [
    "boto3.Session().region_name"
   ]
  },
  {
   "cell_type": "code",
   "execution_count": 192,
   "id": "f809e355",
   "metadata": {},
   "outputs": [],
   "source": [
    "# Creates a reference to the linearLearner container image\n",
    "# If you don't have to specify (hardcode) the region,it will get the current region name using boto3.Session\n",
    "container = sagemaker.image_uris.retrieve(\"linear-learner\", boto3.Session().region_name)"
   ]
  },
  {
   "cell_type": "code",
   "execution_count": 193,
   "id": "9470aaf1",
   "metadata": {},
   "outputs": [],
   "source": [
    "# useful params:\n",
    "# - use_spot_instances = True\n",
    "# - max_run = 300\n",
    "# - max_wait = 600)\n",
    "linear = sagemaker.estimator.Estimator(container,\n",
    "                                       role, \n",
    "                                       instance_count = 1, \n",
    "                                       instance_type = 'ml.m4.xlarge',\n",
    "                                       output_path = output_location,\n",
    "                                       sagemaker_session = sagemaker_session)"
   ]
  },
  {
   "cell_type": "code",
   "execution_count": 194,
   "id": "829f454a",
   "metadata": {},
   "outputs": [],
   "source": [
    "# num_models: train 32 different versions of the model and will get the best out of them\n",
    "# predictor_type: regressor, but could be other kind of predictor (classifier)\n",
    "# epochs: how many times should pass through the data. After our entire training set is seen by the model, we say that one epoch is finished.\n",
    "# mini_batch_size: means you only take a subset of all your data during one iteration.\n",
    "# feature_dim: data dimension\n",
    "# loss: Mean absolute error (MAE). https://towardsdatascience.com/understanding-the-3-most-common-loss-functions-for-machine-learning-regression-23e0ef3e14d3\n",
    "linear.set_hyperparameters(feature_dim = 1,\n",
    "                           predictor_type = 'regressor',\n",
    "                           mini_batch_size = 5,\n",
    "                           epochs = 5,\n",
    "                           num_models = 32,\n",
    "                           loss = 'absolute_loss')"
   ]
  },
  {
   "cell_type": "markdown",
   "id": "85d1ab74",
   "metadata": {},
   "source": [
    "### 6. Trainning the model"
   ]
  },
  {
   "cell_type": "code",
   "execution_count": 195,
   "id": "ec351202",
   "metadata": {},
   "outputs": [
    {
     "name": "stdout",
     "output_type": "stream",
     "text": [
      "2022-11-05 17:38:18 Starting - Starting the training job...\n",
      "2022-11-05 17:38:44 Starting - Preparing the instances for trainingProfilerReport-1667669898: InProgress\n",
      ".........\n",
      "2022-11-05 17:40:08 Downloading - Downloading input data...\n",
      "2022-11-05 17:40:44 Training - Downloading the training image.........\n",
      "2022-11-05 17:42:14 Training - Training image download completed. Training in progress..\u001b[34mDocker entrypoint called with argument(s): train\u001b[0m\n",
      "\u001b[34mRunning default environment configuration script\u001b[0m\n",
      "\u001b[34m[11/05/2022 17:42:17 INFO 140670613550912] Reading default configuration from /opt/amazon/lib/python3.7/site-packages/algorithm/resources/default-input.json: {'mini_batch_size': '1000', 'epochs': '15', 'feature_dim': 'auto', 'use_bias': 'true', 'binary_classifier_model_selection_criteria': 'accuracy', 'f_beta': '1.0', 'target_recall': '0.8', 'target_precision': '0.8', 'num_models': 'auto', 'num_calibration_samples': '10000000', 'init_method': 'uniform', 'init_scale': '0.07', 'init_sigma': '0.01', 'init_bias': '0.0', 'optimizer': 'auto', 'loss': 'auto', 'margin': '1.0', 'quantile': '0.5', 'loss_insensitivity': '0.01', 'huber_delta': '1.0', 'num_classes': '1', 'accuracy_top_k': '3', 'wd': 'auto', 'l1': 'auto', 'momentum': 'auto', 'learning_rate': 'auto', 'beta_1': 'auto', 'beta_2': 'auto', 'bias_lr_mult': 'auto', 'bias_wd_mult': 'auto', 'use_lr_scheduler': 'true', 'lr_scheduler_step': 'auto', 'lr_scheduler_factor': 'auto', 'lr_scheduler_minimum_lr': 'auto', 'positive_example_weight_mult': '1.0', 'balance_multiclass_weights': 'false', 'normalize_data': 'true', 'normalize_label': 'auto', 'unbias_data': 'auto', 'unbias_label': 'auto', 'num_point_for_scaler': '10000', '_kvstore': 'auto', '_num_gpus': 'auto', '_num_kv_servers': 'auto', '_log_level': 'info', '_tuning_objective_metric': '', 'early_stopping_patience': '3', 'early_stopping_tolerance': '0.001', '_enable_profiler': 'false'}\u001b[0m\n",
      "\u001b[34m[11/05/2022 17:42:17 INFO 140670613550912] Merging with provided configuration from /opt/ml/input/config/hyperparameters.json: {'epochs': '5', 'feature_dim': '1', 'loss': 'absolute_loss', 'mini_batch_size': '5', 'num_models': '32', 'predictor_type': 'regressor'}\u001b[0m\n",
      "\u001b[34m[11/05/2022 17:42:17 INFO 140670613550912] Final configuration: {'mini_batch_size': '5', 'epochs': '5', 'feature_dim': '1', 'use_bias': 'true', 'binary_classifier_model_selection_criteria': 'accuracy', 'f_beta': '1.0', 'target_recall': '0.8', 'target_precision': '0.8', 'num_models': '32', 'num_calibration_samples': '10000000', 'init_method': 'uniform', 'init_scale': '0.07', 'init_sigma': '0.01', 'init_bias': '0.0', 'optimizer': 'auto', 'loss': 'absolute_loss', 'margin': '1.0', 'quantile': '0.5', 'loss_insensitivity': '0.01', 'huber_delta': '1.0', 'num_classes': '1', 'accuracy_top_k': '3', 'wd': 'auto', 'l1': 'auto', 'momentum': 'auto', 'learning_rate': 'auto', 'beta_1': 'auto', 'beta_2': 'auto', 'bias_lr_mult': 'auto', 'bias_wd_mult': 'auto', 'use_lr_scheduler': 'true', 'lr_scheduler_step': 'auto', 'lr_scheduler_factor': 'auto', 'lr_scheduler_minimum_lr': 'auto', 'positive_example_weight_mult': '1.0', 'balance_multiclass_weights': 'false', 'normalize_data': 'true', 'normalize_label': 'auto', 'unbias_data': 'auto', 'unbias_label': 'auto', 'num_point_for_scaler': '10000', '_kvstore': 'auto', '_num_gpus': 'auto', '_num_kv_servers': 'auto', '_log_level': 'info', '_tuning_objective_metric': '', 'early_stopping_patience': '3', 'early_stopping_tolerance': '0.001', '_enable_profiler': 'false', 'predictor_type': 'regressor'}\u001b[0m\n",
      "\u001b[34m[11/05/2022 17:42:21 WARNING 140670613550912] Loggers have already been setup.\u001b[0m\n",
      "\u001b[34m[11/05/2022 17:42:21 INFO 140670613550912] Final configuration: {'mini_batch_size': '5', 'epochs': '5', 'feature_dim': '1', 'use_bias': 'true', 'binary_classifier_model_selection_criteria': 'accuracy', 'f_beta': '1.0', 'target_recall': '0.8', 'target_precision': '0.8', 'num_models': '32', 'num_calibration_samples': '10000000', 'init_method': 'uniform', 'init_scale': '0.07', 'init_sigma': '0.01', 'init_bias': '0.0', 'optimizer': 'auto', 'loss': 'absolute_loss', 'margin': '1.0', 'quantile': '0.5', 'loss_insensitivity': '0.01', 'huber_delta': '1.0', 'num_classes': '1', 'accuracy_top_k': '3', 'wd': 'auto', 'l1': 'auto', 'momentum': 'auto', 'learning_rate': 'auto', 'beta_1': 'auto', 'beta_2': 'auto', 'bias_lr_mult': 'auto', 'bias_wd_mult': 'auto', 'use_lr_scheduler': 'true', 'lr_scheduler_step': 'auto', 'lr_scheduler_factor': 'auto', 'lr_scheduler_minimum_lr': 'auto', 'positive_example_weight_mult': '1.0', 'balance_multiclass_weights': 'false', 'normalize_data': 'true', 'normalize_label': 'auto', 'unbias_data': 'auto', 'unbias_label': 'auto', 'num_point_for_scaler': '10000', '_kvstore': 'auto', '_num_gpus': 'auto', '_num_kv_servers': 'auto', '_log_level': 'info', '_tuning_objective_metric': '', 'early_stopping_patience': '3', 'early_stopping_tolerance': '0.001', '_enable_profiler': 'false', 'predictor_type': 'regressor'}\u001b[0m\n",
      "\u001b[34m[11/05/2022 17:42:21 WARNING 140670613550912] Loggers have already been setup.\u001b[0m\n",
      "\u001b[34mProcess 1 is a worker.\u001b[0m\n",
      "\u001b[34m[11/05/2022 17:42:21 INFO 140670613550912] Using default worker.\u001b[0m\n",
      "\u001b[34m[11/05/2022 17:42:21 INFO 140670613550912] Checkpoint loading and saving are disabled.\u001b[0m\n",
      "\u001b[34m[2022-11-05 17:42:21.357] [tensorio] [info] epoch_stats={\"data_pipeline\": \"/opt/ml/input/data/train\", \"epoch\": 0, \"duration\": 16, \"num_examples\": 1, \"num_bytes\": 240}\u001b[0m\n",
      "\u001b[34m[11/05/2022 17:42:21 INFO 140670613550912] Create Store: local\u001b[0m\n",
      "\u001b[34m[2022-11-05 17:42:21.523] [tensorio] [info] epoch_stats={\"data_pipeline\": \"/opt/ml/input/data/train\", \"epoch\": 1, \"duration\": 165, \"num_examples\": 20, \"num_bytes\": 4800}\u001b[0m\n",
      "\u001b[34m[11/05/2022 17:42:21 INFO 140670613550912] Scaler algorithm parameters\n",
      " <algorithm.scaler.ScalerAlgorithmStable object at 0x7fefe4296310>\u001b[0m\n",
      "\u001b[34m[11/05/2022 17:42:21 INFO 140670613550912] Scaling model computed with parameters:\n",
      " {'stdev_label': \u001b[0m\n",
      "\u001b[34m[165.66898]\u001b[0m\n",
      "\u001b[34m<NDArray 1 @cpu(0)>, 'stdev_weight': \u001b[0m\n",
      "\u001b[34m[7.7251143]\u001b[0m\n",
      "\u001b[34m<NDArray 1 @cpu(0)>, 'mean_label': \u001b[0m\n",
      "\u001b[34m[522.56635]\u001b[0m\n",
      "\u001b[34m<NDArray 1 @cpu(0)>, 'mean_weight': \u001b[0m\n",
      "\u001b[34m[22.283016]\u001b[0m\n",
      "\u001b[34m<NDArray 1 @cpu(0)>}\u001b[0m\n",
      "\u001b[34m[11/05/2022 17:42:21 INFO 140670613550912] nvidia-smi: took 0.033 seconds to run.\u001b[0m\n",
      "\u001b[34m[11/05/2022 17:42:21 INFO 140670613550912] nvidia-smi identified 0 GPUs.\u001b[0m\n",
      "\u001b[34m[11/05/2022 17:42:21 INFO 140670613550912] Number of GPUs being used: 0\u001b[0m\n",
      "\u001b[34m#metrics {\"StartTime\": 1667670141.63628, \"EndTime\": 1667670141.6363158, \"Dimensions\": {\"Algorithm\": \"Linear Learner\", \"Host\": \"algo-1\", \"Operation\": \"training\", \"Meta\": \"init_train_data_iter\"}, \"Metrics\": {\"Total Records Seen\": {\"sum\": 105.0, \"count\": 1, \"min\": 105, \"max\": 105}, \"Total Batches Seen\": {\"sum\": 21.0, \"count\": 1, \"min\": 21, \"max\": 21}, \"Max Records Seen Between Resets\": {\"sum\": 100.0, \"count\": 1, \"min\": 100, \"max\": 100}, \"Max Batches Seen Between Resets\": {\"sum\": 20.0, \"count\": 1, \"min\": 20, \"max\": 20}, \"Reset Count\": {\"sum\": 2.0, \"count\": 1, \"min\": 2, \"max\": 2}, \"Number of Records Since Last Reset\": {\"sum\": 0.0, \"count\": 1, \"min\": 0, \"max\": 0}, \"Number of Batches Since Last Reset\": {\"sum\": 0.0, \"count\": 1, \"min\": 0, \"max\": 0}}}\u001b[0m\n",
      "\u001b[34m[2022-11-05 17:42:22.098] [tensorio] [info] epoch_stats={\"data_pipeline\": \"/opt/ml/input/data/train\", \"epoch\": 4, \"duration\": 461, \"num_examples\": 20, \"num_bytes\": 4800}\u001b[0m\n",
      "\u001b[34m#metrics {\"StartTime\": 1667670142.0980895, \"EndTime\": 1667670142.0981853, \"Dimensions\": {\"Algorithm\": \"Linear Learner\", \"Host\": \"algo-1\", \"Operation\": \"training\", \"epoch\": 0, \"model\": 0}, \"Metrics\": {\"train_absolute_loss_objective\": {\"sum\": 0.7868449473381043, \"count\": 1, \"min\": 0.7868449473381043, \"max\": 0.7868449473381043}}}\u001b[0m\n",
      "\u001b[34m#metrics {\"StartTime\": 1667670142.098272, \"EndTime\": 1667670142.098294, \"Dimensions\": {\"Algorithm\": \"Linear Learner\", \"Host\": \"algo-1\", \"Operation\": \"training\", \"epoch\": 0, \"model\": 1}, \"Metrics\": {\"train_absolute_loss_objective\": {\"sum\": 0.8059733986854554, \"count\": 1, \"min\": 0.8059733986854554, \"max\": 0.8059733986854554}}}\u001b[0m\n",
      "\u001b[34m#metrics {\"StartTime\": 1667670142.0983534, \"EndTime\": 1667670142.0983717, \"Dimensions\": {\"Algorithm\": \"Linear Learner\", \"Host\": \"algo-1\", \"Operation\": \"training\", \"epoch\": 0, \"model\": 2}, \"Metrics\": {\"train_absolute_loss_objective\": {\"sum\": 0.7891701197624207, \"count\": 1, \"min\": 0.7891701197624207, \"max\": 0.7891701197624207}}}\u001b[0m\n",
      "\u001b[34m#metrics {\"StartTime\": 1667670142.0984638, \"EndTime\": 1667670142.0984838, \"Dimensions\": {\"Algorithm\": \"Linear Learner\", \"Host\": \"algo-1\", \"Operation\": \"training\", \"epoch\": 0, \"model\": 3}, \"Metrics\": {\"train_absolute_loss_objective\": {\"sum\": 0.804992470741272, \"count\": 1, \"min\": 0.804992470741272, \"max\": 0.804992470741272}}}\u001b[0m\n",
      "\u001b[34m#metrics {\"StartTime\": 1667670142.0985413, \"EndTime\": 1667670142.098558, \"Dimensions\": {\"Algorithm\": \"Linear Learner\", \"Host\": \"algo-1\", \"Operation\": \"training\", \"epoch\": 0, \"model\": 4}, \"Metrics\": {\"train_absolute_loss_objective\": {\"sum\": 0.5384612214565277, \"count\": 1, \"min\": 0.5384612214565277, \"max\": 0.5384612214565277}}}\u001b[0m\n",
      "\u001b[34m#metrics {\"StartTime\": 1667670142.0986109, \"EndTime\": 1667670142.0986228, \"Dimensions\": {\"Algorithm\": \"Linear Learner\", \"Host\": \"algo-1\", \"Operation\": \"training\", \"epoch\": 0, \"model\": 5}, \"Metrics\": {\"train_absolute_loss_objective\": {\"sum\": 0.5423551458120346, \"count\": 1, \"min\": 0.5423551458120346, \"max\": 0.5423551458120346}}}\u001b[0m\n",
      "\u001b[34m#metrics {\"StartTime\": 1667670142.0986526, \"EndTime\": 1667670142.098661, \"Dimensions\": {\"Algorithm\": \"Linear Learner\", \"Host\": \"algo-1\", \"Operation\": \"training\", \"epoch\": 0, \"model\": 6}, \"Metrics\": {\"train_absolute_loss_objective\": {\"sum\": 0.5915229403972626, \"count\": 1, \"min\": 0.5915229403972626, \"max\": 0.5915229403972626}}}\u001b[0m\n",
      "\u001b[34m#metrics {\"StartTime\": 1667670142.0987072, \"EndTime\": 1667670142.0987236, \"Dimensions\": {\"Algorithm\": \"Linear Learner\", \"Host\": \"algo-1\", \"Operation\": \"training\", \"epoch\": 0, \"model\": 7}, \"Metrics\": {\"train_absolute_loss_objective\": {\"sum\": 0.5542748904228211, \"count\": 1, \"min\": 0.5542748904228211, \"max\": 0.5542748904228211}}}\u001b[0m\n",
      "\u001b[34m#metrics {\"StartTime\": 1667670142.098772, \"EndTime\": 1667670142.0987878, \"Dimensions\": {\"Algorithm\": \"Linear Learner\", \"Host\": \"algo-1\", \"Operation\": \"training\", \"epoch\": 0, \"model\": 8}, \"Metrics\": {\"train_absolute_loss_objective\": {\"sum\": 0.8407387137413025, \"count\": 1, \"min\": 0.8407387137413025, \"max\": 0.8407387137413025}}}\u001b[0m\n",
      "\u001b[34m#metrics {\"StartTime\": 1667670142.098843, \"EndTime\": 1667670142.09886, \"Dimensions\": {\"Algorithm\": \"Linear Learner\", \"Host\": \"algo-1\", \"Operation\": \"training\", \"epoch\": 0, \"model\": 9}, \"Metrics\": {\"train_absolute_loss_objective\": {\"sum\": 0.7751826238632202, \"count\": 1, \"min\": 0.7751826238632202, \"max\": 0.7751826238632202}}}\u001b[0m\n",
      "\u001b[34m#metrics {\"StartTime\": 1667670142.0989041, \"EndTime\": 1667670142.098921, \"Dimensions\": {\"Algorithm\": \"Linear Learner\", \"Host\": \"algo-1\", \"Operation\": \"training\", \"epoch\": 0, \"model\": 10}, \"Metrics\": {\"train_absolute_loss_objective\": {\"sum\": 0.7817070603370666, \"count\": 1, \"min\": 0.7817070603370666, \"max\": 0.7817070603370666}}}\u001b[0m\n",
      "\u001b[34m#metrics {\"StartTime\": 1667670142.0989792, \"EndTime\": 1667670142.0989976, \"Dimensions\": {\"Algorithm\": \"Linear Learner\", \"Host\": \"algo-1\", \"Operation\": \"training\", \"epoch\": 0, \"model\": 11}, \"Metrics\": {\"train_absolute_loss_objective\": {\"sum\": 0.7673597359657287, \"count\": 1, \"min\": 0.7673597359657287, \"max\": 0.7673597359657287}}}\u001b[0m\n",
      "\u001b[34m#metrics {\"StartTime\": 1667670142.0990498, \"EndTime\": 1667670142.0990674, \"Dimensions\": {\"Algorithm\": \"Linear Learner\", \"Host\": \"algo-1\", \"Operation\": \"training\", \"epoch\": 0, \"model\": 12}, \"Metrics\": {\"train_absolute_loss_objective\": {\"sum\": 0.5399015873670578, \"count\": 1, \"min\": 0.5399015873670578, \"max\": 0.5399015873670578}}}\u001b[0m\n",
      "\u001b[34m#metrics {\"StartTime\": 1667670142.0991127, \"EndTime\": 1667670142.0991287, \"Dimensions\": {\"Algorithm\": \"Linear Learner\", \"Host\": \"algo-1\", \"Operation\": \"training\", \"epoch\": 0, \"model\": 13}, \"Metrics\": {\"train_absolute_loss_objective\": {\"sum\": 0.5477874171733856, \"count\": 1, \"min\": 0.5477874171733856, \"max\": 0.5477874171733856}}}\u001b[0m\n",
      "\u001b[34m#metrics {\"StartTime\": 1667670142.0991876, \"EndTime\": 1667670142.0992048, \"Dimensions\": {\"Algorithm\": \"Linear Learner\", \"Host\": \"algo-1\", \"Operation\": \"training\", \"epoch\": 0, \"model\": 14}, \"Metrics\": {\"train_absolute_loss_objective\": {\"sum\": 0.5395421802997589, \"count\": 1, \"min\": 0.5395421802997589, \"max\": 0.5395421802997589}}}\u001b[0m\n",
      "\u001b[34m#metrics {\"StartTime\": 1667670142.0992491, \"EndTime\": 1667670142.0992663, \"Dimensions\": {\"Algorithm\": \"Linear Learner\", \"Host\": \"algo-1\", \"Operation\": \"training\", \"epoch\": 0, \"model\": 15}, \"Metrics\": {\"train_absolute_loss_objective\": {\"sum\": 0.5493081295490265, \"count\": 1, \"min\": 0.5493081295490265, \"max\": 0.5493081295490265}}}\u001b[0m\n",
      "\u001b[34m#metrics {\"StartTime\": 1667670142.0993183, \"EndTime\": 1667670142.0993352, \"Dimensions\": {\"Algorithm\": \"Linear Learner\", \"Host\": \"algo-1\", \"Operation\": \"training\", \"epoch\": 0, \"model\": 16}, \"Metrics\": {\"train_absolute_loss_objective\": {\"sum\": 0.752342426776886, \"count\": 1, \"min\": 0.752342426776886, \"max\": 0.752342426776886}}}\u001b[0m\n",
      "\u001b[34m#metrics {\"StartTime\": 1667670142.099387, \"EndTime\": 1667670142.0994048, \"Dimensions\": {\"Algorithm\": \"Linear Learner\", \"Host\": \"algo-1\", \"Operation\": \"training\", \"epoch\": 0, \"model\": 17}, \"Metrics\": {\"train_absolute_loss_objective\": {\"sum\": 0.8015302705764771, \"count\": 1, \"min\": 0.8015302705764771, \"max\": 0.8015302705764771}}}\u001b[0m\n",
      "\u001b[34m#metrics {\"StartTime\": 1667670142.0994475, \"EndTime\": 1667670142.0994637, \"Dimensions\": {\"Algorithm\": \"Linear Learner\", \"Host\": \"algo-1\", \"Operation\": \"training\", \"epoch\": 0, \"model\": 18}, \"Metrics\": {\"train_absolute_loss_objective\": {\"sum\": 0.778346061706543, \"count\": 1, \"min\": 0.778346061706543, \"max\": 0.778346061706543}}}\u001b[0m\n",
      "\u001b[34m#metrics {\"StartTime\": 1667670142.099519, \"EndTime\": 1667670142.0995367, \"Dimensions\": {\"Algorithm\": \"Linear Learner\", \"Host\": \"algo-1\", \"Operation\": \"training\", \"epoch\": 0, \"model\": 19}, \"Metrics\": {\"train_absolute_loss_objective\": {\"sum\": 0.7756848025321961, \"count\": 1, \"min\": 0.7756848025321961, \"max\": 0.7756848025321961}}}\u001b[0m\n",
      "\u001b[34m#metrics {\"StartTime\": 1667670142.0995934, \"EndTime\": 1667670142.0996108, \"Dimensions\": {\"Algorithm\": \"Linear Learner\", \"Host\": \"algo-1\", \"Operation\": \"training\", \"epoch\": 0, \"model\": 20}, \"Metrics\": {\"train_absolute_loss_objective\": {\"sum\": 0.6279224252700806, \"count\": 1, \"min\": 0.6279224252700806, \"max\": 0.6279224252700806}}}\u001b[0m\n",
      "\u001b[34m#metrics {\"StartTime\": 1667670142.099661, \"EndTime\": 1667670142.0996766, \"Dimensions\": {\"Algorithm\": \"Linear Learner\", \"Host\": \"algo-1\", \"Operation\": \"training\", \"epoch\": 0, \"model\": 21}, \"Metrics\": {\"train_absolute_loss_objective\": {\"sum\": 0.5888112318515778, \"count\": 1, \"min\": 0.5888112318515778, \"max\": 0.5888112318515778}}}\u001b[0m\n",
      "\u001b[34m#metrics {\"StartTime\": 1667670142.099732, \"EndTime\": 1667670142.099748, \"Dimensions\": {\"Algorithm\": \"Linear Learner\", \"Host\": \"algo-1\", \"Operation\": \"training\", \"epoch\": 0, \"model\": 22}, \"Metrics\": {\"train_absolute_loss_objective\": {\"sum\": 0.6218901801109314, \"count\": 1, \"min\": 0.6218901801109314, \"max\": 0.6218901801109314}}}\u001b[0m\n",
      "\u001b[34m#metrics {\"StartTime\": 1667670142.0997982, \"EndTime\": 1667670142.0998144, \"Dimensions\": {\"Algorithm\": \"Linear Learner\", \"Host\": \"algo-1\", \"Operation\": \"training\", \"epoch\": 0, \"model\": 23}, \"Metrics\": {\"train_absolute_loss_objective\": {\"sum\": 0.5940710651874542, \"count\": 1, \"min\": 0.5940710651874542, \"max\": 0.5940710651874542}}}\u001b[0m\n",
      "\u001b[34m#metrics {\"StartTime\": 1667670142.0998762, \"EndTime\": 1667670142.0998943, \"Dimensions\": {\"Algorithm\": \"Linear Learner\", \"Host\": \"algo-1\", \"Operation\": \"training\", \"epoch\": 0, \"model\": 24}, \"Metrics\": {\"train_absolute_loss_objective\": {\"sum\": 0.8123148155212402, \"count\": 1, \"min\": 0.8123148155212402, \"max\": 0.8123148155212402}}}\u001b[0m\n",
      "\u001b[34m#metrics {\"StartTime\": 1667670142.099949, \"EndTime\": 1667670142.0999658, \"Dimensions\": {\"Algorithm\": \"Linear Learner\", \"Host\": \"algo-1\", \"Operation\": \"training\", \"epoch\": 0, \"model\": 25}, \"Metrics\": {\"train_absolute_loss_objective\": {\"sum\": 0.8278182125091553, \"count\": 1, \"min\": 0.8278182125091553, \"max\": 0.8278182125091553}}}\u001b[0m\n",
      "\u001b[34m#metrics {\"StartTime\": 1667670142.1000187, \"EndTime\": 1667670142.100036, \"Dimensions\": {\"Algorithm\": \"Linear Learner\", \"Host\": \"algo-1\", \"Operation\": \"training\", \"epoch\": 0, \"model\": 26}, \"Metrics\": {\"train_absolute_loss_objective\": {\"sum\": 0.8243017601966858, \"count\": 1, \"min\": 0.8243017601966858, \"max\": 0.8243017601966858}}}\u001b[0m\n",
      "\u001b[34m#metrics {\"StartTime\": 1667670142.1000884, \"EndTime\": 1667670142.1001048, \"Dimensions\": {\"Algorithm\": \"Linear Learner\", \"Host\": \"algo-1\", \"Operation\": \"training\", \"epoch\": 0, \"model\": 27}, \"Metrics\": {\"train_absolute_loss_objective\": {\"sum\": 0.825139741897583, \"count\": 1, \"min\": 0.825139741897583, \"max\": 0.825139741897583}}}\u001b[0m\n",
      "\u001b[34m#metrics {\"StartTime\": 1667670142.100157, \"EndTime\": 1667670142.100172, \"Dimensions\": {\"Algorithm\": \"Linear Learner\", \"Host\": \"algo-1\", \"Operation\": \"training\", \"epoch\": 0, \"model\": 28}, \"Metrics\": {\"train_absolute_loss_objective\": {\"sum\": 0.9382199478149414, \"count\": 1, \"min\": 0.9382199478149414, \"max\": 0.9382199478149414}}}\u001b[0m\n",
      "\u001b[34m#metrics {\"StartTime\": 1667670142.1002307, \"EndTime\": 1667670142.1002488, \"Dimensions\": {\"Algorithm\": \"Linear Learner\", \"Host\": \"algo-1\", \"Operation\": \"training\", \"epoch\": 0, \"model\": 29}, \"Metrics\": {\"train_absolute_loss_objective\": {\"sum\": 0.9385381269454957, \"count\": 1, \"min\": 0.9385381269454957, \"max\": 0.9385381269454957}}}\u001b[0m\n",
      "\u001b[34m#metrics {\"StartTime\": 1667670142.100303, \"EndTime\": 1667670142.100319, \"Dimensions\": {\"Algorithm\": \"Linear Learner\", \"Host\": \"algo-1\", \"Operation\": \"training\", \"epoch\": 0, \"model\": 30}, \"Metrics\": {\"train_absolute_loss_objective\": {\"sum\": 1.0115209436416626, \"count\": 1, \"min\": 1.0115209436416626, \"max\": 1.0115209436416626}}}\u001b[0m\n",
      "\u001b[34m#metrics {\"StartTime\": 1667670142.100364, \"EndTime\": 1667670142.1003795, \"Dimensions\": {\"Algorithm\": \"Linear Learner\", \"Host\": \"algo-1\", \"Operation\": \"training\", \"epoch\": 0, \"model\": 31}, \"Metrics\": {\"train_absolute_loss_objective\": {\"sum\": 1.0136245799064636, \"count\": 1, \"min\": 1.0136245799064636, \"max\": 1.0136245799064636}}}\u001b[0m\n",
      "\u001b[34m[11/05/2022 17:42:22 INFO 140670613550912] #quality_metric: host=algo-1, epoch=0, train absolute_loss_objective <loss>=0.7868449473381043\u001b[0m\n",
      "\u001b[34m[11/05/2022 17:42:22 INFO 140670613550912] #early_stopping_criteria_metric: host=algo-1, epoch=0, criteria=absolute_loss_objective, value=0.5384612214565277\u001b[0m\n",
      "\u001b[34m[11/05/2022 17:42:22 INFO 140670613550912] Epoch 0: Loss improved. Updating best model\u001b[0m\n",
      "\u001b[34m[11/05/2022 17:42:22 INFO 140670613550912] Saving model for epoch: 0\u001b[0m\n",
      "\u001b[34m[11/05/2022 17:42:22 INFO 140670613550912] Saved checkpoint to \"/tmp/tmpgcfe9an9/mx-mod-0000.params\"\u001b[0m\n",
      "\u001b[34m[11/05/2022 17:42:22 INFO 140670613550912] #progress_metric: host=algo-1, completed 20.0 % of epochs\u001b[0m\n",
      "\u001b[34m#metrics {\"StartTime\": 1667670141.636629, \"EndTime\": 1667670142.1130278, \"Dimensions\": {\"Algorithm\": \"Linear Learner\", \"Host\": \"algo-1\", \"Operation\": \"training\", \"epoch\": 0, \"Meta\": \"training_data_iter\"}, \"Metrics\": {\"Total Records Seen\": {\"sum\": 205.0, \"count\": 1, \"min\": 205, \"max\": 205}, \"Total Batches Seen\": {\"sum\": 41.0, \"count\": 1, \"min\": 41, \"max\": 41}, \"Max Records Seen Between Resets\": {\"sum\": 100.0, \"count\": 1, \"min\": 100, \"max\": 100}, \"Max Batches Seen Between Resets\": {\"sum\": 20.0, \"count\": 1, \"min\": 20, \"max\": 20}, \"Reset Count\": {\"sum\": 3.0, \"count\": 1, \"min\": 3, \"max\": 3}, \"Number of Records Since Last Reset\": {\"sum\": 100.0, \"count\": 1, \"min\": 100, \"max\": 100}, \"Number of Batches Since Last Reset\": {\"sum\": 20.0, \"count\": 1, \"min\": 20, \"max\": 20}}}\u001b[0m\n",
      "\u001b[34m[11/05/2022 17:42:22 INFO 140670613550912] #throughput_metric: host=algo-1, train throughput=209.84593401689253 records/second\u001b[0m\n",
      "\u001b[34m[2022-11-05 17:42:22.509] [tensorio] [info] epoch_stats={\"data_pipeline\": \"/opt/ml/input/data/train\", \"epoch\": 6, \"duration\": 396, \"num_examples\": 20, \"num_bytes\": 4800}\u001b[0m\n",
      "\u001b[34m#metrics {\"StartTime\": 1667670142.5097733, \"EndTime\": 1667670142.5098526, \"Dimensions\": {\"Algorithm\": \"Linear Learner\", \"Host\": \"algo-1\", \"Operation\": \"training\", \"epoch\": 1, \"model\": 0}, \"Metrics\": {\"train_absolute_loss_objective\": {\"sum\": 0.7039361143112183, \"count\": 1, \"min\": 0.7039361143112183, \"max\": 0.7039361143112183}}}\u001b[0m\n",
      "\u001b[34m#metrics {\"StartTime\": 1667670142.50993, \"EndTime\": 1667670142.5099492, \"Dimensions\": {\"Algorithm\": \"Linear Learner\", \"Host\": \"algo-1\", \"Operation\": \"training\", \"epoch\": 1, \"model\": 1}, \"Metrics\": {\"train_absolute_loss_objective\": {\"sum\": 0.7216240668296814, \"count\": 1, \"min\": 0.7216240668296814, \"max\": 0.7216240668296814}}}\u001b[0m\n",
      "\u001b[34m#metrics {\"StartTime\": 1667670142.5100062, \"EndTime\": 1667670142.510025, \"Dimensions\": {\"Algorithm\": \"Linear Learner\", \"Host\": \"algo-1\", \"Operation\": \"training\", \"epoch\": 1, \"model\": 2}, \"Metrics\": {\"train_absolute_loss_objective\": {\"sum\": 0.7062261891365051, \"count\": 1, \"min\": 0.7062261891365051, \"max\": 0.7062261891365051}}}\u001b[0m\n",
      "\u001b[34m#metrics {\"StartTime\": 1667670142.5100746, \"EndTime\": 1667670142.5100877, \"Dimensions\": {\"Algorithm\": \"Linear Learner\", \"Host\": \"algo-1\", \"Operation\": \"training\", \"epoch\": 1, \"model\": 3}, \"Metrics\": {\"train_absolute_loss_objective\": {\"sum\": 0.7206579279899598, \"count\": 1, \"min\": 0.7206579279899598, \"max\": 0.7206579279899598}}}\u001b[0m\n",
      "\u001b[34m#metrics {\"StartTime\": 1667670142.5101311, \"EndTime\": 1667670142.5101454, \"Dimensions\": {\"Algorithm\": \"Linear Learner\", \"Host\": \"algo-1\", \"Operation\": \"training\", \"epoch\": 1, \"model\": 4}, \"Metrics\": {\"train_absolute_loss_objective\": {\"sum\": 0.24278319060802458, \"count\": 1, \"min\": 0.24278319060802458, \"max\": 0.24278319060802458}}}\u001b[0m\n",
      "\u001b[34m#metrics {\"StartTime\": 1667670142.510195, \"EndTime\": 1667670142.5102105, \"Dimensions\": {\"Algorithm\": \"Linear Learner\", \"Host\": \"algo-1\", \"Operation\": \"training\", \"epoch\": 1, \"model\": 5}, \"Metrics\": {\"train_absolute_loss_objective\": {\"sum\": 0.19221058309078218, \"count\": 1, \"min\": 0.19221058309078218, \"max\": 0.19221058309078218}}}\u001b[0m\n",
      "\u001b[34m#metrics {\"StartTime\": 1667670142.5102575, \"EndTime\": 1667670142.5102718, \"Dimensions\": {\"Algorithm\": \"Linear Learner\", \"Host\": \"algo-1\", \"Operation\": \"training\", \"epoch\": 1, \"model\": 6}, \"Metrics\": {\"train_absolute_loss_objective\": {\"sum\": 0.28993677616119384, \"count\": 1, \"min\": 0.28993677616119384, \"max\": 0.28993677616119384}}}\u001b[0m\n",
      "\u001b[34m#metrics {\"StartTime\": 1667670142.510323, \"EndTime\": 1667670142.5103393, \"Dimensions\": {\"Algorithm\": \"Linear Learner\", \"Host\": \"algo-1\", \"Operation\": \"training\", \"epoch\": 1, \"model\": 7}, \"Metrics\": {\"train_absolute_loss_objective\": {\"sum\": 0.16688639879226685, \"count\": 1, \"min\": 0.16688639879226685, \"max\": 0.16688639879226685}}}\u001b[0m\n",
      "\u001b[34m#metrics {\"StartTime\": 1667670142.5103884, \"EndTime\": 1667670142.5104332, \"Dimensions\": {\"Algorithm\": \"Linear Learner\", \"Host\": \"algo-1\", \"Operation\": \"training\", \"epoch\": 1, \"model\": 8}, \"Metrics\": {\"train_absolute_loss_objective\": {\"sum\": 0.7569525599479675, \"count\": 1, \"min\": 0.7569525599479675, \"max\": 0.7569525599479675}}}\u001b[0m\n",
      "\u001b[34m#metrics {\"StartTime\": 1667670142.5104902, \"EndTime\": 1667670142.510507, \"Dimensions\": {\"Algorithm\": \"Linear Learner\", \"Host\": \"algo-1\", \"Operation\": \"training\", \"epoch\": 1, \"model\": 9}, \"Metrics\": {\"train_absolute_loss_objective\": {\"sum\": 0.6913173055648804, \"count\": 1, \"min\": 0.6913173055648804, \"max\": 0.6913173055648804}}}\u001b[0m\n",
      "\u001b[34m#metrics {\"StartTime\": 1667670142.5105586, \"EndTime\": 1667670142.510575, \"Dimensions\": {\"Algorithm\": \"Linear Learner\", \"Host\": \"algo-1\", \"Operation\": \"training\", \"epoch\": 1, \"model\": 10}, \"Metrics\": {\"train_absolute_loss_objective\": {\"sum\": 0.6988945174217224, \"count\": 1, \"min\": 0.6988945174217224, \"max\": 0.6988945174217224}}}\u001b[0m\n",
      "\u001b[34m#metrics {\"StartTime\": 1667670142.5106294, \"EndTime\": 1667670142.5106459, \"Dimensions\": {\"Algorithm\": \"Linear Learner\", \"Host\": \"algo-1\", \"Operation\": \"training\", \"epoch\": 1, \"model\": 11}, \"Metrics\": {\"train_absolute_loss_objective\": {\"sum\": 0.683612790107727, \"count\": 1, \"min\": 0.683612790107727, \"max\": 0.683612790107727}}}\u001b[0m\n",
      "\u001b[34m#metrics {\"StartTime\": 1667670142.510682, \"EndTime\": 1667670142.5106916, \"Dimensions\": {\"Algorithm\": \"Linear Learner\", \"Host\": \"algo-1\", \"Operation\": \"training\", \"epoch\": 1, \"model\": 12}, \"Metrics\": {\"train_absolute_loss_objective\": {\"sum\": 0.22093287944793702, \"count\": 1, \"min\": 0.22093287944793702, \"max\": 0.22093287944793702}}}\u001b[0m\n",
      "\u001b[34m#metrics {\"StartTime\": 1667670142.5107183, \"EndTime\": 1667670142.5107267, \"Dimensions\": {\"Algorithm\": \"Linear Learner\", \"Host\": \"algo-1\", \"Operation\": \"training\", \"epoch\": 1, \"model\": 13}, \"Metrics\": {\"train_absolute_loss_objective\": {\"sum\": 0.20580880224704742, \"count\": 1, \"min\": 0.20580880224704742, \"max\": 0.20580880224704742}}}\u001b[0m\n",
      "\u001b[34m#metrics {\"StartTime\": 1667670142.5107527, \"EndTime\": 1667670142.5107608, \"Dimensions\": {\"Algorithm\": \"Linear Learner\", \"Host\": \"algo-1\", \"Operation\": \"training\", \"epoch\": 1, \"model\": 14}, \"Metrics\": {\"train_absolute_loss_objective\": {\"sum\": 0.22098940908908843, \"count\": 1, \"min\": 0.22098940908908843, \"max\": 0.22098940908908843}}}\u001b[0m\n",
      "\u001b[34m#metrics {\"StartTime\": 1667670142.5107863, \"EndTime\": 1667670142.510797, \"Dimensions\": {\"Algorithm\": \"Linear Learner\", \"Host\": \"algo-1\", \"Operation\": \"training\", \"epoch\": 1, \"model\": 15}, \"Metrics\": {\"train_absolute_loss_objective\": {\"sum\": 0.20597973167896272, \"count\": 1, \"min\": 0.20597973167896272, \"max\": 0.20597973167896272}}}\u001b[0m\n",
      "\u001b[34m#metrics {\"StartTime\": 1667670142.5108426, \"EndTime\": 1667670142.5108526, \"Dimensions\": {\"Algorithm\": \"Linear Learner\", \"Host\": \"algo-1\", \"Operation\": \"training\", \"epoch\": 1, \"model\": 16}, \"Metrics\": {\"train_absolute_loss_objective\": {\"sum\": 0.6723348808288574, \"count\": 1, \"min\": 0.6723348808288574, \"max\": 0.6723348808288574}}}\u001b[0m\n",
      "\u001b[34m#metrics {\"StartTime\": 1667670142.5108821, \"EndTime\": 1667670142.5108907, \"Dimensions\": {\"Algorithm\": \"Linear Learner\", \"Host\": \"algo-1\", \"Operation\": \"training\", \"epoch\": 1, \"model\": 17}, \"Metrics\": {\"train_absolute_loss_objective\": {\"sum\": 0.7192509007453919, \"count\": 1, \"min\": 0.7192509007453919, \"max\": 0.7192509007453919}}}\u001b[0m\n",
      "\u001b[34m#metrics {\"StartTime\": 1667670142.5109172, \"EndTime\": 1667670142.5109253, \"Dimensions\": {\"Algorithm\": \"Linear Learner\", \"Host\": \"algo-1\", \"Operation\": \"training\", \"epoch\": 1, \"model\": 18}, \"Metrics\": {\"train_absolute_loss_objective\": {\"sum\": 0.6977056360244751, \"count\": 1, \"min\": 0.6977056360244751, \"max\": 0.6977056360244751}}}\u001b[0m\n",
      "\u001b[34m#metrics {\"StartTime\": 1667670142.5109565, \"EndTime\": 1667670142.5109708, \"Dimensions\": {\"Algorithm\": \"Linear Learner\", \"Host\": \"algo-1\", \"Operation\": \"training\", \"epoch\": 1, \"model\": 19}, \"Metrics\": {\"train_absolute_loss_objective\": {\"sum\": 0.6940173721313476, \"count\": 1, \"min\": 0.6940173721313476, \"max\": 0.6940173721313476}}}\u001b[0m\n",
      "\u001b[34m#metrics {\"StartTime\": 1667670142.5110037, \"EndTime\": 1667670142.5110123, \"Dimensions\": {\"Algorithm\": \"Linear Learner\", \"Host\": \"algo-1\", \"Operation\": \"training\", \"epoch\": 1, \"model\": 20}, \"Metrics\": {\"train_absolute_loss_objective\": {\"sum\": 0.3233783769607544, \"count\": 1, \"min\": 0.3233783769607544, \"max\": 0.3233783769607544}}}\u001b[0m\n",
      "\u001b[34m#metrics {\"StartTime\": 1667670142.5110383, \"EndTime\": 1667670142.5110462, \"Dimensions\": {\"Algorithm\": \"Linear Learner\", \"Host\": \"algo-1\", \"Operation\": \"training\", \"epoch\": 1, \"model\": 21}, \"Metrics\": {\"train_absolute_loss_objective\": {\"sum\": 0.39135914206504824, \"count\": 1, \"min\": 0.39135914206504824, \"max\": 0.39135914206504824}}}\u001b[0m\n",
      "\u001b[34m#metrics {\"StartTime\": 1667670142.5110717, \"EndTime\": 1667670142.5110798, \"Dimensions\": {\"Algorithm\": \"Linear Learner\", \"Host\": \"algo-1\", \"Operation\": \"training\", \"epoch\": 1, \"model\": 22}, \"Metrics\": {\"train_absolute_loss_objective\": {\"sum\": 0.33603960514068604, \"count\": 1, \"min\": 0.33603960514068604, \"max\": 0.33603960514068604}}}\u001b[0m\n",
      "\u001b[34m#metrics {\"StartTime\": 1667670142.5111053, \"EndTime\": 1667670142.511115, \"Dimensions\": {\"Algorithm\": \"Linear Learner\", \"Host\": \"algo-1\", \"Operation\": \"training\", \"epoch\": 1, \"model\": 23}, \"Metrics\": {\"train_absolute_loss_objective\": {\"sum\": 0.35707691371440886, \"count\": 1, \"min\": 0.35707691371440886, \"max\": 0.35707691371440886}}}\u001b[0m\n",
      "\u001b[34m#metrics {\"StartTime\": 1667670142.5111601, \"EndTime\": 1667670142.51117, \"Dimensions\": {\"Algorithm\": \"Linear Learner\", \"Host\": \"algo-1\", \"Operation\": \"training\", \"epoch\": 1, \"model\": 24}, \"Metrics\": {\"train_absolute_loss_objective\": {\"sum\": 0.8272033548355102, \"count\": 1, \"min\": 0.8272033548355102, \"max\": 0.8272033548355102}}}\u001b[0m\n",
      "\u001b[34m#metrics {\"StartTime\": 1667670142.5111966, \"EndTime\": 1667670142.5112047, \"Dimensions\": {\"Algorithm\": \"Linear Learner\", \"Host\": \"algo-1\", \"Operation\": \"training\", \"epoch\": 1, \"model\": 25}, \"Metrics\": {\"train_absolute_loss_objective\": {\"sum\": 0.822132203578949, \"count\": 1, \"min\": 0.822132203578949, \"max\": 0.822132203578949}}}\u001b[0m\n",
      "\u001b[34m#metrics {\"StartTime\": 1667670142.51123, \"EndTime\": 1667670142.5112379, \"Dimensions\": {\"Algorithm\": \"Linear Learner\", \"Host\": \"algo-1\", \"Operation\": \"training\", \"epoch\": 1, \"model\": 26}, \"Metrics\": {\"train_absolute_loss_objective\": {\"sum\": 0.8222615098953248, \"count\": 1, \"min\": 0.8222615098953248, \"max\": 0.8222615098953248}}}\u001b[0m\n",
      "\u001b[34m#metrics {\"StartTime\": 1667670142.5112631, \"EndTime\": 1667670142.5112712, \"Dimensions\": {\"Algorithm\": \"Linear Learner\", \"Host\": \"algo-1\", \"Operation\": \"training\", \"epoch\": 1, \"model\": 27}, \"Metrics\": {\"train_absolute_loss_objective\": {\"sum\": 0.8211732077598571, \"count\": 1, \"min\": 0.8211732077598571, \"max\": 0.8211732077598571}}}\u001b[0m\n",
      "\u001b[34m#metrics {\"StartTime\": 1667670142.5113041, \"EndTime\": 1667670142.511319, \"Dimensions\": {\"Algorithm\": \"Linear Learner\", \"Host\": \"algo-1\", \"Operation\": \"training\", \"epoch\": 1, \"model\": 28}, \"Metrics\": {\"train_absolute_loss_objective\": {\"sum\": 0.8610854983329773, \"count\": 1, \"min\": 0.8610854983329773, \"max\": 0.8610854983329773}}}\u001b[0m\n",
      "\u001b[34m#metrics {\"StartTime\": 1667670142.5113666, \"EndTime\": 1667670142.5113769, \"Dimensions\": {\"Algorithm\": \"Linear Learner\", \"Host\": \"algo-1\", \"Operation\": \"training\", \"epoch\": 1, \"model\": 29}, \"Metrics\": {\"train_absolute_loss_objective\": {\"sum\": 0.8623299932479859, \"count\": 1, \"min\": 0.8623299932479859, \"max\": 0.8623299932479859}}}\u001b[0m\n",
      "\u001b[34m#metrics {\"StartTime\": 1667670142.5114043, \"EndTime\": 1667670142.5114121, \"Dimensions\": {\"Algorithm\": \"Linear Learner\", \"Host\": \"algo-1\", \"Operation\": \"training\", \"epoch\": 1, \"model\": 30}, \"Metrics\": {\"train_absolute_loss_objective\": {\"sum\": 0.8562095499038697, \"count\": 1, \"min\": 0.8562095499038697, \"max\": 0.8562095499038697}}}\u001b[0m\n",
      "\u001b[34m#metrics {\"StartTime\": 1667670142.5114412, \"EndTime\": 1667670142.5114563, \"Dimensions\": {\"Algorithm\": \"Linear Learner\", \"Host\": \"algo-1\", \"Operation\": \"training\", \"epoch\": 1, \"model\": 31}, \"Metrics\": {\"train_absolute_loss_objective\": {\"sum\": 0.8564147925376893, \"count\": 1, \"min\": 0.8564147925376893, \"max\": 0.8564147925376893}}}\u001b[0m\n",
      "\u001b[34m[11/05/2022 17:42:22 INFO 140670613550912] #quality_metric: host=algo-1, epoch=1, train absolute_loss_objective <loss>=0.7039361143112183\u001b[0m\n",
      "\u001b[34m[11/05/2022 17:42:22 INFO 140670613550912] #early_stopping_criteria_metric: host=algo-1, epoch=1, criteria=absolute_loss_objective, value=0.16688639879226685\u001b[0m\n",
      "\u001b[34m[11/05/2022 17:42:22 INFO 140670613550912] Epoch 1: Loss improved. Updating best model\u001b[0m\n",
      "\u001b[34m[11/05/2022 17:42:22 INFO 140670613550912] Saving model for epoch: 1\u001b[0m\n",
      "\u001b[34m[11/05/2022 17:42:22 INFO 140670613550912] Saved checkpoint to \"/tmp/tmplhd9iz31/mx-mod-0000.params\"\u001b[0m\n",
      "\u001b[34m[11/05/2022 17:42:22 INFO 140670613550912] #progress_metric: host=algo-1, completed 40.0 % of epochs\u001b[0m\n",
      "\u001b[34m#metrics {\"StartTime\": 1667670142.1133616, \"EndTime\": 1667670142.5200217, \"Dimensions\": {\"Algorithm\": \"Linear Learner\", \"Host\": \"algo-1\", \"Operation\": \"training\", \"epoch\": 1, \"Meta\": \"training_data_iter\"}, \"Metrics\": {\"Total Records Seen\": {\"sum\": 305.0, \"count\": 1, \"min\": 305, \"max\": 305}, \"Total Batches Seen\": {\"sum\": 61.0, \"count\": 1, \"min\": 61, \"max\": 61}, \"Max Records Seen Between Resets\": {\"sum\": 100.0, \"count\": 1, \"min\": 100, \"max\": 100}, \"Max Batches Seen Between Resets\": {\"sum\": 20.0, \"count\": 1, \"min\": 20, \"max\": 20}, \"Reset Count\": {\"sum\": 4.0, \"count\": 1, \"min\": 4, \"max\": 4}, \"Number of Records Since Last Reset\": {\"sum\": 100.0, \"count\": 1, \"min\": 100, \"max\": 100}, \"Number of Batches Since Last Reset\": {\"sum\": 20.0, \"count\": 1, \"min\": 20, \"max\": 20}}}\u001b[0m\n",
      "\u001b[34m[11/05/2022 17:42:22 INFO 140670613550912] #throughput_metric: host=algo-1, train throughput=245.81338759511831 records/second\u001b[0m\n",
      "\u001b[34m[2022-11-05 17:42:22.890] [tensorio] [info] epoch_stats={\"data_pipeline\": \"/opt/ml/input/data/train\", \"epoch\": 8, \"duration\": 369, \"num_examples\": 20, \"num_bytes\": 4800}\u001b[0m\n",
      "\u001b[34m#metrics {\"StartTime\": 1667670142.8901453, \"EndTime\": 1667670142.8902369, \"Dimensions\": {\"Algorithm\": \"Linear Learner\", \"Host\": \"algo-1\", \"Operation\": \"training\", \"epoch\": 2, \"model\": 0}, \"Metrics\": {\"train_absolute_loss_objective\": {\"sum\": 0.6273004007339478, \"count\": 1, \"min\": 0.6273004007339478, \"max\": 0.6273004007339478}}}\u001b[0m\n",
      "\u001b[34m#metrics {\"StartTime\": 1667670142.8903108, \"EndTime\": 1667670142.8903322, \"Dimensions\": {\"Algorithm\": \"Linear Learner\", \"Host\": \"algo-1\", \"Operation\": \"training\", \"epoch\": 2, \"model\": 1}, \"Metrics\": {\"train_absolute_loss_objective\": {\"sum\": 0.642045578956604, \"count\": 1, \"min\": 0.642045578956604, \"max\": 0.642045578956604}}}\u001b[0m\n",
      "\u001b[34m#metrics {\"StartTime\": 1667670142.8903906, \"EndTime\": 1667670142.8904302, \"Dimensions\": {\"Algorithm\": \"Linear Learner\", \"Host\": \"algo-1\", \"Operation\": \"training\", \"epoch\": 2, \"model\": 2}, \"Metrics\": {\"train_absolute_loss_objective\": {\"sum\": 0.6295526778697967, \"count\": 1, \"min\": 0.6295526778697967, \"max\": 0.6295526778697967}}}\u001b[0m\n",
      "\u001b[34m#metrics {\"StartTime\": 1667670142.8904915, \"EndTime\": 1667670142.8905108, \"Dimensions\": {\"Algorithm\": \"Linear Learner\", \"Host\": \"algo-1\", \"Operation\": \"training\", \"epoch\": 2, \"model\": 3}, \"Metrics\": {\"train_absolute_loss_objective\": {\"sum\": 0.641095380783081, \"count\": 1, \"min\": 0.641095380783081, \"max\": 0.641095380783081}}}\u001b[0m\n",
      "\u001b[34m#metrics {\"StartTime\": 1667670142.8905654, \"EndTime\": 1667670142.8905838, \"Dimensions\": {\"Algorithm\": \"Linear Learner\", \"Host\": \"algo-1\", \"Operation\": \"training\", \"epoch\": 2, \"model\": 4}, \"Metrics\": {\"train_absolute_loss_objective\": {\"sum\": 0.16648223042488097, \"count\": 1, \"min\": 0.16648223042488097, \"max\": 0.16648223042488097}}}\u001b[0m\n",
      "\u001b[34m#metrics {\"StartTime\": 1667670142.8906388, \"EndTime\": 1667670142.8906567, \"Dimensions\": {\"Algorithm\": \"Linear Learner\", \"Host\": \"algo-1\", \"Operation\": \"training\", \"epoch\": 2, \"model\": 5}, \"Metrics\": {\"train_absolute_loss_objective\": {\"sum\": 0.18700083315372468, \"count\": 1, \"min\": 0.18700083315372468, \"max\": 0.18700083315372468}}}\u001b[0m\n",
      "\u001b[34m#metrics {\"StartTime\": 1667670142.890712, \"EndTime\": 1667670142.8907235, \"Dimensions\": {\"Algorithm\": \"Linear Learner\", \"Host\": \"algo-1\", \"Operation\": \"training\", \"epoch\": 2, \"model\": 6}, \"Metrics\": {\"train_absolute_loss_objective\": {\"sum\": 0.2519011408090591, \"count\": 1, \"min\": 0.2519011408090591, \"max\": 0.2519011408090591}}}\u001b[0m\n",
      "\u001b[34m#metrics {\"StartTime\": 1667670142.8907983, \"EndTime\": 1667670142.8908198, \"Dimensions\": {\"Algorithm\": \"Linear Learner\", \"Host\": \"algo-1\", \"Operation\": \"training\", \"epoch\": 2, \"model\": 7}, \"Metrics\": {\"train_absolute_loss_objective\": {\"sum\": 0.15092188239097595, \"count\": 1, \"min\": 0.15092188239097595, \"max\": 0.15092188239097595}}}\u001b[0m\n",
      "\u001b[34m#metrics {\"StartTime\": 1667670142.8908784, \"EndTime\": 1667670142.8908963, \"Dimensions\": {\"Algorithm\": \"Linear Learner\", \"Host\": \"algo-1\", \"Operation\": \"training\", \"epoch\": 2, \"model\": 8}, \"Metrics\": {\"train_absolute_loss_objective\": {\"sum\": 0.6806574773788452, \"count\": 1, \"min\": 0.6806574773788452, \"max\": 0.6806574773788452}}}\u001b[0m\n",
      "\u001b[34m#metrics {\"StartTime\": 1667670142.8909516, \"EndTime\": 1667670142.890969, \"Dimensions\": {\"Algorithm\": \"Linear Learner\", \"Host\": \"algo-1\", \"Operation\": \"training\", \"epoch\": 2, \"model\": 9}, \"Metrics\": {\"train_absolute_loss_objective\": {\"sum\": 0.6122957003116608, \"count\": 1, \"min\": 0.6122957003116608, \"max\": 0.6122957003116608}}}\u001b[0m\n",
      "\u001b[34m#metrics {\"StartTime\": 1667670142.8910315, \"EndTime\": 1667670142.8910503, \"Dimensions\": {\"Algorithm\": \"Linear Learner\", \"Host\": \"algo-1\", \"Operation\": \"training\", \"epoch\": 2, \"model\": 10}, \"Metrics\": {\"train_absolute_loss_objective\": {\"sum\": 0.6223953831195831, \"count\": 1, \"min\": 0.6223953831195831, \"max\": 0.6223953831195831}}}\u001b[0m\n",
      "\u001b[34m#metrics {\"StartTime\": 1667670142.8911095, \"EndTime\": 1667670142.8911266, \"Dimensions\": {\"Algorithm\": \"Linear Learner\", \"Host\": \"algo-1\", \"Operation\": \"training\", \"epoch\": 2, \"model\": 11}, \"Metrics\": {\"train_absolute_loss_objective\": {\"sum\": 0.6047187173366546, \"count\": 1, \"min\": 0.6047187173366546, \"max\": 0.6047187173366546}}}\u001b[0m\n",
      "\u001b[34m#metrics {\"StartTime\": 1667670142.8911815, \"EndTime\": 1667670142.8911994, \"Dimensions\": {\"Algorithm\": \"Linear Learner\", \"Host\": \"algo-1\", \"Operation\": \"training\", \"epoch\": 2, \"model\": 12}, \"Metrics\": {\"train_absolute_loss_objective\": {\"sum\": 0.15003533124923707, \"count\": 1, \"min\": 0.15003533124923707, \"max\": 0.15003533124923707}}}\u001b[0m\n",
      "\u001b[34m#metrics {\"StartTime\": 1667670142.891257, \"EndTime\": 1667670142.8912745, \"Dimensions\": {\"Algorithm\": \"Linear Learner\", \"Host\": \"algo-1\", \"Operation\": \"training\", \"epoch\": 2, \"model\": 13}, \"Metrics\": {\"train_absolute_loss_objective\": {\"sum\": 0.16695410311222075, \"count\": 1, \"min\": 0.16695410311222075, \"max\": 0.16695410311222075}}}\u001b[0m\n",
      "\u001b[34m#metrics {\"StartTime\": 1667670142.891329, \"EndTime\": 1667670142.8913457, \"Dimensions\": {\"Algorithm\": \"Linear Learner\", \"Host\": \"algo-1\", \"Operation\": \"training\", \"epoch\": 2, \"model\": 14}, \"Metrics\": {\"train_absolute_loss_objective\": {\"sum\": 0.14702343702316284, \"count\": 1, \"min\": 0.14702343702316284, \"max\": 0.14702343702316284}}}\u001b[0m\n",
      "\u001b[34m#metrics {\"StartTime\": 1667670142.891402, \"EndTime\": 1667670142.8914185, \"Dimensions\": {\"Algorithm\": \"Linear Learner\", \"Host\": \"algo-1\", \"Operation\": \"training\", \"epoch\": 2, \"model\": 15}, \"Metrics\": {\"train_absolute_loss_objective\": {\"sum\": 0.17544367253780366, \"count\": 1, \"min\": 0.17544367253780366, \"max\": 0.17544367253780366}}}\u001b[0m\n",
      "\u001b[34m#metrics {\"StartTime\": 1667670142.8914742, \"EndTime\": 1667670142.8914917, \"Dimensions\": {\"Algorithm\": \"Linear Learner\", \"Host\": \"algo-1\", \"Operation\": \"training\", \"epoch\": 2, \"model\": 16}, \"Metrics\": {\"train_absolute_loss_objective\": {\"sum\": 0.6029299545288086, \"count\": 1, \"min\": 0.6029299545288086, \"max\": 0.6029299545288086}}}\u001b[0m\n",
      "\u001b[34m#metrics {\"StartTime\": 1667670142.891546, \"EndTime\": 1667670142.891564, \"Dimensions\": {\"Algorithm\": \"Linear Learner\", \"Host\": \"algo-1\", \"Operation\": \"training\", \"epoch\": 2, \"model\": 17}, \"Metrics\": {\"train_absolute_loss_objective\": {\"sum\": 0.6459491014480591, \"count\": 1, \"min\": 0.6459491014480591, \"max\": 0.6459491014480591}}}\u001b[0m\n",
      "\u001b[34m#metrics {\"StartTime\": 1667670142.8916185, \"EndTime\": 1667670142.8916364, \"Dimensions\": {\"Algorithm\": \"Linear Learner\", \"Host\": \"algo-1\", \"Operation\": \"training\", \"epoch\": 2, \"model\": 18}, \"Metrics\": {\"train_absolute_loss_objective\": {\"sum\": 0.6274333298206329, \"count\": 1, \"min\": 0.6274333298206329, \"max\": 0.6274333298206329}}}\u001b[0m\n",
      "\u001b[34m#metrics {\"StartTime\": 1667670142.8916905, \"EndTime\": 1667670142.8917077, \"Dimensions\": {\"Algorithm\": \"Linear Learner\", \"Host\": \"algo-1\", \"Operation\": \"training\", \"epoch\": 2, \"model\": 19}, \"Metrics\": {\"train_absolute_loss_objective\": {\"sum\": 0.6215618896484375, \"count\": 1, \"min\": 0.6215618896484375, \"max\": 0.6215618896484375}}}\u001b[0m\n",
      "\u001b[34m#metrics {\"StartTime\": 1667670142.8917623, \"EndTime\": 1667670142.89178, \"Dimensions\": {\"Algorithm\": \"Linear Learner\", \"Host\": \"algo-1\", \"Operation\": \"training\", \"epoch\": 2, \"model\": 20}, \"Metrics\": {\"train_absolute_loss_objective\": {\"sum\": 0.32552992582321166, \"count\": 1, \"min\": 0.32552992582321166, \"max\": 0.32552992582321166}}}\u001b[0m\n",
      "\u001b[34m#metrics {\"StartTime\": 1667670142.8918343, \"EndTime\": 1667670142.8918529, \"Dimensions\": {\"Algorithm\": \"Linear Learner\", \"Host\": \"algo-1\", \"Operation\": \"training\", \"epoch\": 2, \"model\": 21}, \"Metrics\": {\"train_absolute_loss_objective\": {\"sum\": 0.3101055771112442, \"count\": 1, \"min\": 0.3101055771112442, \"max\": 0.3101055771112442}}}\u001b[0m\n",
      "\u001b[34m#metrics {\"StartTime\": 1667670142.8919067, \"EndTime\": 1667670142.8919234, \"Dimensions\": {\"Algorithm\": \"Linear Learner\", \"Host\": \"algo-1\", \"Operation\": \"training\", \"epoch\": 2, \"model\": 22}, \"Metrics\": {\"train_absolute_loss_objective\": {\"sum\": 0.29074358463287353, \"count\": 1, \"min\": 0.29074358463287353, \"max\": 0.29074358463287353}}}\u001b[0m\n",
      "\u001b[34m#metrics {\"StartTime\": 1667670142.8919647, \"EndTime\": 1667670142.8919797, \"Dimensions\": {\"Algorithm\": \"Linear Learner\", \"Host\": \"algo-1\", \"Operation\": \"training\", \"epoch\": 2, \"model\": 23}, \"Metrics\": {\"train_absolute_loss_objective\": {\"sum\": 0.41129676878452304, \"count\": 1, \"min\": 0.41129676878452304, \"max\": 0.41129676878452304}}}\u001b[0m\n",
      "\u001b[34m#metrics {\"StartTime\": 1667670142.8920443, \"EndTime\": 1667670142.892062, \"Dimensions\": {\"Algorithm\": \"Linear Learner\", \"Host\": \"algo-1\", \"Operation\": \"training\", \"epoch\": 2, \"model\": 24}, \"Metrics\": {\"train_absolute_loss_objective\": {\"sum\": 0.8193919491767884, \"count\": 1, \"min\": 0.8193919491767884, \"max\": 0.8193919491767884}}}\u001b[0m\n",
      "\u001b[34m#metrics {\"StartTime\": 1667670142.892115, \"EndTime\": 1667670142.8921263, \"Dimensions\": {\"Algorithm\": \"Linear Learner\", \"Host\": \"algo-1\", \"Operation\": \"training\", \"epoch\": 2, \"model\": 25}, \"Metrics\": {\"train_absolute_loss_objective\": {\"sum\": 0.8226160669326782, \"count\": 1, \"min\": 0.8226160669326782, \"max\": 0.8226160669326782}}}\u001b[0m\n",
      "\u001b[34m#metrics {\"StartTime\": 1667670142.8921547, \"EndTime\": 1667670142.8921628, \"Dimensions\": {\"Algorithm\": \"Linear Learner\", \"Host\": \"algo-1\", \"Operation\": \"training\", \"epoch\": 2, \"model\": 26}, \"Metrics\": {\"train_absolute_loss_objective\": {\"sum\": 0.823436131477356, \"count\": 1, \"min\": 0.823436131477356, \"max\": 0.823436131477356}}}\u001b[0m\n",
      "\u001b[34m#metrics {\"StartTime\": 1667670142.8921888, \"EndTime\": 1667670142.892197, \"Dimensions\": {\"Algorithm\": \"Linear Learner\", \"Host\": \"algo-1\", \"Operation\": \"training\", \"epoch\": 2, \"model\": 27}, \"Metrics\": {\"train_absolute_loss_objective\": {\"sum\": 0.8234536147117615, \"count\": 1, \"min\": 0.8234536147117615, \"max\": 0.8234536147117615}}}\u001b[0m\n",
      "\u001b[34m#metrics {\"StartTime\": 1667670142.8922222, \"EndTime\": 1667670142.89223, \"Dimensions\": {\"Algorithm\": \"Linear Learner\", \"Host\": \"algo-1\", \"Operation\": \"training\", \"epoch\": 2, \"model\": 28}, \"Metrics\": {\"train_absolute_loss_objective\": {\"sum\": 0.8827330112457276, \"count\": 1, \"min\": 0.8827330112457276, \"max\": 0.8827330112457276}}}\u001b[0m\n",
      "\u001b[34m#metrics {\"StartTime\": 1667670142.8922756, \"EndTime\": 1667670142.8922913, \"Dimensions\": {\"Algorithm\": \"Linear Learner\", \"Host\": \"algo-1\", \"Operation\": \"training\", \"epoch\": 2, \"model\": 29}, \"Metrics\": {\"train_absolute_loss_objective\": {\"sum\": 0.8700751972198486, \"count\": 1, \"min\": 0.8700751972198486, \"max\": 0.8700751972198486}}}\u001b[0m\n",
      "\u001b[34m#metrics {\"StartTime\": 1667670142.8923533, \"EndTime\": 1667670142.8923712, \"Dimensions\": {\"Algorithm\": \"Linear Learner\", \"Host\": \"algo-1\", \"Operation\": \"training\", \"epoch\": 2, \"model\": 30}, \"Metrics\": {\"train_absolute_loss_objective\": {\"sum\": 0.8616209602355958, \"count\": 1, \"min\": 0.8616209602355958, \"max\": 0.8616209602355958}}}\u001b[0m\n",
      "\u001b[34m#metrics {\"StartTime\": 1667670142.892429, \"EndTime\": 1667670142.892445, \"Dimensions\": {\"Algorithm\": \"Linear Learner\", \"Host\": \"algo-1\", \"Operation\": \"training\", \"epoch\": 2, \"model\": 31}, \"Metrics\": {\"train_absolute_loss_objective\": {\"sum\": 0.8651697826385498, \"count\": 1, \"min\": 0.8651697826385498, \"max\": 0.8651697826385498}}}\u001b[0m\n",
      "\u001b[34m[11/05/2022 17:42:22 INFO 140670613550912] #quality_metric: host=algo-1, epoch=2, train absolute_loss_objective <loss>=0.6273004007339478\u001b[0m\n",
      "\u001b[34m[11/05/2022 17:42:22 INFO 140670613550912] #early_stopping_criteria_metric: host=algo-1, epoch=2, criteria=absolute_loss_objective, value=0.14702343702316284\u001b[0m\n",
      "\u001b[34m[11/05/2022 17:42:22 INFO 140670613550912] Epoch 2: Loss improved. Updating best model\u001b[0m\n",
      "\u001b[34m[11/05/2022 17:42:22 INFO 140670613550912] Saving model for epoch: 2\u001b[0m\n",
      "\u001b[34m[11/05/2022 17:42:22 INFO 140670613550912] Saved checkpoint to \"/tmp/tmpmt12pb5q/mx-mod-0000.params\"\u001b[0m\n",
      "\u001b[34m[11/05/2022 17:42:22 INFO 140670613550912] #progress_metric: host=algo-1, completed 60.0 % of epochs\u001b[0m\n",
      "\u001b[34m#metrics {\"StartTime\": 1667670142.5203476, \"EndTime\": 1667670142.9009025, \"Dimensions\": {\"Algorithm\": \"Linear Learner\", \"Host\": \"algo-1\", \"Operation\": \"training\", \"epoch\": 2, \"Meta\": \"training_data_iter\"}, \"Metrics\": {\"Total Records Seen\": {\"sum\": 405.0, \"count\": 1, \"min\": 405, \"max\": 405}, \"Total Batches Seen\": {\"sum\": 81.0, \"count\": 1, \"min\": 81, \"max\": 81}, \"Max Records Seen Between Resets\": {\"sum\": 100.0, \"count\": 1, \"min\": 100, \"max\": 100}, \"Max Batches Seen Between Resets\": {\"sum\": 20.0, \"count\": 1, \"min\": 20, \"max\": 20}, \"Reset Count\": {\"sum\": 5.0, \"count\": 1, \"min\": 5, \"max\": 5}, \"Number of Records Since Last Reset\": {\"sum\": 100.0, \"count\": 1, \"min\": 100, \"max\": 100}, \"Number of Batches Since Last Reset\": {\"sum\": 20.0, \"count\": 1, \"min\": 20, \"max\": 20}}}\u001b[0m\n",
      "\u001b[34m[11/05/2022 17:42:22 INFO 140670613550912] #throughput_metric: host=algo-1, train throughput=262.67081916168115 records/second\u001b[0m\n",
      "\u001b[34m[2022-11-05 17:42:23.269] [tensorio] [info] epoch_stats={\"data_pipeline\": \"/opt/ml/input/data/train\", \"epoch\": 10, \"duration\": 368, \"num_examples\": 20, \"num_bytes\": 4800}\u001b[0m\n",
      "\u001b[34m#metrics {\"StartTime\": 1667670143.269743, \"EndTime\": 1667670143.269824, \"Dimensions\": {\"Algorithm\": \"Linear Learner\", \"Host\": \"algo-1\", \"Operation\": \"training\", \"epoch\": 3, \"model\": 0}, \"Metrics\": {\"train_absolute_loss_objective\": {\"sum\": 0.5533226156234741, \"count\": 1, \"min\": 0.5533226156234741, \"max\": 0.5533226156234741}}}\u001b[0m\n",
      "\u001b[34m#metrics {\"StartTime\": 1667670143.2699072, \"EndTime\": 1667670143.2699318, \"Dimensions\": {\"Algorithm\": \"Linear Learner\", \"Host\": \"algo-1\", \"Operation\": \"training\", \"epoch\": 3, \"model\": 1}, \"Metrics\": {\"train_absolute_loss_objective\": {\"sum\": 0.5637924027442932, \"count\": 1, \"min\": 0.5637924027442932, \"max\": 0.5637924027442932}}}\u001b[0m\n",
      "\u001b[34m#metrics {\"StartTime\": 1667670143.269996, \"EndTime\": 1667670143.2700174, \"Dimensions\": {\"Algorithm\": \"Linear Learner\", \"Host\": \"algo-1\", \"Operation\": \"training\", \"epoch\": 3, \"model\": 2}, \"Metrics\": {\"train_absolute_loss_objective\": {\"sum\": 0.555544775724411, \"count\": 1, \"min\": 0.555544775724411, \"max\": 0.555544775724411}}}\u001b[0m\n",
      "\u001b[34m#metrics {\"StartTime\": 1667670143.2700784, \"EndTime\": 1667670143.2700975, \"Dimensions\": {\"Algorithm\": \"Linear Learner\", \"Host\": \"algo-1\", \"Operation\": \"training\", \"epoch\": 3, \"model\": 3}, \"Metrics\": {\"train_absolute_loss_objective\": {\"sum\": 0.5628549373149871, \"count\": 1, \"min\": 0.5628549373149871, \"max\": 0.5628549373149871}}}\u001b[0m\n",
      "\u001b[34m#metrics {\"StartTime\": 1667670143.2701502, \"EndTime\": 1667670143.270168, \"Dimensions\": {\"Algorithm\": \"Linear Learner\", \"Host\": \"algo-1\", \"Operation\": \"training\", \"epoch\": 3, \"model\": 4}, \"Metrics\": {\"train_absolute_loss_objective\": {\"sum\": 0.18032957702875138, \"count\": 1, \"min\": 0.18032957702875138, \"max\": 0.18032957702875138}}}\u001b[0m\n",
      "\u001b[34m#metrics {\"StartTime\": 1667670143.2702243, \"EndTime\": 1667670143.2702417, \"Dimensions\": {\"Algorithm\": \"Linear Learner\", \"Host\": \"algo-1\", \"Operation\": \"training\", \"epoch\": 3, \"model\": 5}, \"Metrics\": {\"train_absolute_loss_objective\": {\"sum\": 0.19215511351823808, \"count\": 1, \"min\": 0.19215511351823808, \"max\": 0.19215511351823808}}}\u001b[0m\n",
      "\u001b[34m#metrics {\"StartTime\": 1667670143.270299, \"EndTime\": 1667670143.2703176, \"Dimensions\": {\"Algorithm\": \"Linear Learner\", \"Host\": \"algo-1\", \"Operation\": \"training\", \"epoch\": 3, \"model\": 6}, \"Metrics\": {\"train_absolute_loss_objective\": {\"sum\": 0.1913008764386177, \"count\": 1, \"min\": 0.1913008764386177, \"max\": 0.1913008764386177}}}\u001b[0m\n",
      "\u001b[34m#metrics {\"StartTime\": 1667670143.270381, \"EndTime\": 1667670143.2704227, \"Dimensions\": {\"Algorithm\": \"Linear Learner\", \"Host\": \"algo-1\", \"Operation\": \"training\", \"epoch\": 3, \"model\": 7}, \"Metrics\": {\"train_absolute_loss_objective\": {\"sum\": 0.19484264731407167, \"count\": 1, \"min\": 0.19484264731407167, \"max\": 0.19484264731407167}}}\u001b[0m\n",
      "\u001b[34m#metrics {\"StartTime\": 1667670143.270482, \"EndTime\": 1667670143.2705002, \"Dimensions\": {\"Algorithm\": \"Linear Learner\", \"Host\": \"algo-1\", \"Operation\": \"training\", \"epoch\": 3, \"model\": 8}, \"Metrics\": {\"train_absolute_loss_objective\": {\"sum\": 0.6038876700401307, \"count\": 1, \"min\": 0.6038876700401307, \"max\": 0.6038876700401307}}}\u001b[0m\n",
      "\u001b[34m#metrics {\"StartTime\": 1667670143.2705631, \"EndTime\": 1667670143.2705822, \"Dimensions\": {\"Algorithm\": \"Linear Learner\", \"Host\": \"algo-1\", \"Operation\": \"training\", \"epoch\": 3, \"model\": 9}, \"Metrics\": {\"train_absolute_loss_objective\": {\"sum\": 0.5345436215400696, \"count\": 1, \"min\": 0.5345436215400696, \"max\": 0.5345436215400696}}}\u001b[0m\n",
      "\u001b[34m#metrics {\"StartTime\": 1667670143.2706382, \"EndTime\": 1667670143.2706554, \"Dimensions\": {\"Algorithm\": \"Linear Learner\", \"Host\": \"algo-1\", \"Operation\": \"training\", \"epoch\": 3, \"model\": 10}, \"Metrics\": {\"train_absolute_loss_objective\": {\"sum\": 0.5485774922370911, \"count\": 1, \"min\": 0.5485774922370911, \"max\": 0.5485774922370911}}}\u001b[0m\n",
      "\u001b[34m#metrics {\"StartTime\": 1667670143.2707198, \"EndTime\": 1667670143.270738, \"Dimensions\": {\"Algorithm\": \"Linear Learner\", \"Host\": \"algo-1\", \"Operation\": \"training\", \"epoch\": 3, \"model\": 11}, \"Metrics\": {\"train_absolute_loss_objective\": {\"sum\": 0.5270685195922852, \"count\": 1, \"min\": 0.5270685195922852, \"max\": 0.5270685195922852}}}\u001b[0m\n",
      "\u001b[34m#metrics {\"StartTime\": 1667670143.2707956, \"EndTime\": 1667670143.2708125, \"Dimensions\": {\"Algorithm\": \"Linear Learner\", \"Host\": \"algo-1\", \"Operation\": \"training\", \"epoch\": 3, \"model\": 12}, \"Metrics\": {\"train_absolute_loss_objective\": {\"sum\": 0.18172979205846787, \"count\": 1, \"min\": 0.18172979205846787, \"max\": 0.18172979205846787}}}\u001b[0m\n",
      "\u001b[34m#metrics {\"StartTime\": 1667670143.2708755, \"EndTime\": 1667670143.270894, \"Dimensions\": {\"Algorithm\": \"Linear Learner\", \"Host\": \"algo-1\", \"Operation\": \"training\", \"epoch\": 3, \"model\": 13}, \"Metrics\": {\"train_absolute_loss_objective\": {\"sum\": 0.21884164154529573, \"count\": 1, \"min\": 0.21884164154529573, \"max\": 0.21884164154529573}}}\u001b[0m\n",
      "\u001b[34m#metrics {\"StartTime\": 1667670143.2709541, \"EndTime\": 1667670143.2709725, \"Dimensions\": {\"Algorithm\": \"Linear Learner\", \"Host\": \"algo-1\", \"Operation\": \"training\", \"epoch\": 3, \"model\": 14}, \"Metrics\": {\"train_absolute_loss_objective\": {\"sum\": 0.18084348142147064, \"count\": 1, \"min\": 0.18084348142147064, \"max\": 0.18084348142147064}}}\u001b[0m\n",
      "\u001b[34m#metrics {\"StartTime\": 1667670143.2710292, \"EndTime\": 1667670143.2710478, \"Dimensions\": {\"Algorithm\": \"Linear Learner\", \"Host\": \"algo-1\", \"Operation\": \"training\", \"epoch\": 3, \"model\": 15}, \"Metrics\": {\"train_absolute_loss_objective\": {\"sum\": 0.19137847304344177, \"count\": 1, \"min\": 0.19137847304344177, \"max\": 0.19137847304344177}}}\u001b[0m\n",
      "\u001b[34m#metrics {\"StartTime\": 1667670143.2711034, \"EndTime\": 1667670143.2711205, \"Dimensions\": {\"Algorithm\": \"Linear Learner\", \"Host\": \"algo-1\", \"Operation\": \"training\", \"epoch\": 3, \"model\": 16}, \"Metrics\": {\"train_absolute_loss_objective\": {\"sum\": 0.5413463091850281, \"count\": 1, \"min\": 0.5413463091850281, \"max\": 0.5413463091850281}}}\u001b[0m\n",
      "\u001b[34m#metrics {\"StartTime\": 1667670143.2711759, \"EndTime\": 1667670143.2711933, \"Dimensions\": {\"Algorithm\": \"Linear Learner\", \"Host\": \"algo-1\", \"Operation\": \"training\", \"epoch\": 3, \"model\": 17}, \"Metrics\": {\"train_absolute_loss_objective\": {\"sum\": 0.5793818819522858, \"count\": 1, \"min\": 0.5793818819522858, \"max\": 0.5793818819522858}}}\u001b[0m\n",
      "\u001b[34m#metrics {\"StartTime\": 1667670143.271251, \"EndTime\": 1667670143.2712684, \"Dimensions\": {\"Algorithm\": \"Linear Learner\", \"Host\": \"algo-1\", \"Operation\": \"training\", \"epoch\": 3, \"model\": 18}, \"Metrics\": {\"train_absolute_loss_objective\": {\"sum\": 0.5648006463050842, \"count\": 1, \"min\": 0.5648006463050842, \"max\": 0.5648006463050842}}}\u001b[0m\n",
      "\u001b[34m#metrics {\"StartTime\": 1667670143.2713234, \"EndTime\": 1667670143.2713351, \"Dimensions\": {\"Algorithm\": \"Linear Learner\", \"Host\": \"algo-1\", \"Operation\": \"training\", \"epoch\": 3, \"model\": 19}, \"Metrics\": {\"train_absolute_loss_objective\": {\"sum\": 0.5560353314876556, \"count\": 1, \"min\": 0.5560353314876556, \"max\": 0.5560353314876556}}}\u001b[0m\n",
      "\u001b[34m#metrics {\"StartTime\": 1667670143.2713683, \"EndTime\": 1667670143.271377, \"Dimensions\": {\"Algorithm\": \"Linear Learner\", \"Host\": \"algo-1\", \"Operation\": \"training\", \"epoch\": 3, \"model\": 20}, \"Metrics\": {\"train_absolute_loss_objective\": {\"sum\": 0.3656055396795273, \"count\": 1, \"min\": 0.3656055396795273, \"max\": 0.3656055396795273}}}\u001b[0m\n",
      "\u001b[34m#metrics {\"StartTime\": 1667670143.2714229, \"EndTime\": 1667670143.2714396, \"Dimensions\": {\"Algorithm\": \"Linear Learner\", \"Host\": \"algo-1\", \"Operation\": \"training\", \"epoch\": 3, \"model\": 21}, \"Metrics\": {\"train_absolute_loss_objective\": {\"sum\": 0.3519003760814667, \"count\": 1, \"min\": 0.3519003760814667, \"max\": 0.3519003760814667}}}\u001b[0m\n",
      "\u001b[34m#metrics {\"StartTime\": 1667670143.2714825, \"EndTime\": 1667670143.2714922, \"Dimensions\": {\"Algorithm\": \"Linear Learner\", \"Host\": \"algo-1\", \"Operation\": \"training\", \"epoch\": 3, \"model\": 22}, \"Metrics\": {\"train_absolute_loss_objective\": {\"sum\": 0.3672987073659897, \"count\": 1, \"min\": 0.3672987073659897, \"max\": 0.3672987073659897}}}\u001b[0m\n",
      "\u001b[34m#metrics {\"StartTime\": 1667670143.27152, \"EndTime\": 1667670143.2715282, \"Dimensions\": {\"Algorithm\": \"Linear Learner\", \"Host\": \"algo-1\", \"Operation\": \"training\", \"epoch\": 3, \"model\": 23}, \"Metrics\": {\"train_absolute_loss_objective\": {\"sum\": 0.2947852581739426, \"count\": 1, \"min\": 0.2947852581739426, \"max\": 0.2947852581739426}}}\u001b[0m\n",
      "\u001b[34m#metrics {\"StartTime\": 1667670143.2715538, \"EndTime\": 1667670143.2715616, \"Dimensions\": {\"Algorithm\": \"Linear Learner\", \"Host\": \"algo-1\", \"Operation\": \"training\", \"epoch\": 3, \"model\": 24}, \"Metrics\": {\"train_absolute_loss_objective\": {\"sum\": 0.8236304616928101, \"count\": 1, \"min\": 0.8236304616928101, \"max\": 0.8236304616928101}}}\u001b[0m\n",
      "\u001b[34m#metrics {\"StartTime\": 1667670143.2715874, \"EndTime\": 1667670143.2716012, \"Dimensions\": {\"Algorithm\": \"Linear Learner\", \"Host\": \"algo-1\", \"Operation\": \"training\", \"epoch\": 3, \"model\": 25}, \"Metrics\": {\"train_absolute_loss_objective\": {\"sum\": 0.8225247311592102, \"count\": 1, \"min\": 0.8225247311592102, \"max\": 0.8225247311592102}}}\u001b[0m\n",
      "\u001b[34m#metrics {\"StartTime\": 1667670143.2716584, \"EndTime\": 1667670143.271676, \"Dimensions\": {\"Algorithm\": \"Linear Learner\", \"Host\": \"algo-1\", \"Operation\": \"training\", \"epoch\": 3, \"model\": 26}, \"Metrics\": {\"train_absolute_loss_objective\": {\"sum\": 0.8220401620864868, \"count\": 1, \"min\": 0.8220401620864868, \"max\": 0.8220401620864868}}}\u001b[0m\n",
      "\u001b[34m#metrics {\"StartTime\": 1667670143.2717314, \"EndTime\": 1667670143.2717488, \"Dimensions\": {\"Algorithm\": \"Linear Learner\", \"Host\": \"algo-1\", \"Operation\": \"training\", \"epoch\": 3, \"model\": 27}, \"Metrics\": {\"train_absolute_loss_objective\": {\"sum\": 0.8223469138145447, \"count\": 1, \"min\": 0.8223469138145447, \"max\": 0.8223469138145447}}}\u001b[0m\n",
      "\u001b[34m#metrics {\"StartTime\": 1667670143.271816, \"EndTime\": 1667670143.2718344, \"Dimensions\": {\"Algorithm\": \"Linear Learner\", \"Host\": \"algo-1\", \"Operation\": \"training\", \"epoch\": 3, \"model\": 28}, \"Metrics\": {\"train_absolute_loss_objective\": {\"sum\": 0.8657634615898132, \"count\": 1, \"min\": 0.8657634615898132, \"max\": 0.8657634615898132}}}\u001b[0m\n",
      "\u001b[34m#metrics {\"StartTime\": 1667670143.2718916, \"EndTime\": 1667670143.2719102, \"Dimensions\": {\"Algorithm\": \"Linear Learner\", \"Host\": \"algo-1\", \"Operation\": \"training\", \"epoch\": 3, \"model\": 29}, \"Metrics\": {\"train_absolute_loss_objective\": {\"sum\": 0.8694753074645996, \"count\": 1, \"min\": 0.8694753074645996, \"max\": 0.8694753074645996}}}\u001b[0m\n",
      "\u001b[34m#metrics {\"StartTime\": 1667670143.2719667, \"EndTime\": 1667670143.271984, \"Dimensions\": {\"Algorithm\": \"Linear Learner\", \"Host\": \"algo-1\", \"Operation\": \"training\", \"epoch\": 3, \"model\": 30}, \"Metrics\": {\"train_absolute_loss_objective\": {\"sum\": 0.8547106623649597, \"count\": 1, \"min\": 0.8547106623649597, \"max\": 0.8547106623649597}}}\u001b[0m\n",
      "\u001b[34m#metrics {\"StartTime\": 1667670143.2720265, \"EndTime\": 1667670143.2720416, \"Dimensions\": {\"Algorithm\": \"Linear Learner\", \"Host\": \"algo-1\", \"Operation\": \"training\", \"epoch\": 3, \"model\": 31}, \"Metrics\": {\"train_absolute_loss_objective\": {\"sum\": 0.8597527956962585, \"count\": 1, \"min\": 0.8597527956962585, \"max\": 0.8597527956962585}}}\u001b[0m\n",
      "\u001b[34m[11/05/2022 17:42:23 INFO 140670613550912] #quality_metric: host=algo-1, epoch=3, train absolute_loss_objective <loss>=0.5533226156234741\u001b[0m\n",
      "\u001b[34m[11/05/2022 17:42:23 INFO 140670613550912] #early_stopping_criteria_metric: host=algo-1, epoch=3, criteria=absolute_loss_objective, value=0.18032957702875138\u001b[0m\n",
      "\u001b[34m[11/05/2022 17:42:23 INFO 140670613550912] Saving model for epoch: 3\u001b[0m\n",
      "\u001b[34m[11/05/2022 17:42:23 INFO 140670613550912] Saved checkpoint to \"/tmp/tmpiixvgy0j/mx-mod-0000.params\"\u001b[0m\n",
      "\u001b[34m[11/05/2022 17:42:23 INFO 140670613550912] #progress_metric: host=algo-1, completed 80.0 % of epochs\u001b[0m\n",
      "\u001b[34m#metrics {\"StartTime\": 1667670142.9012315, \"EndTime\": 1667670143.2799473, \"Dimensions\": {\"Algorithm\": \"Linear Learner\", \"Host\": \"algo-1\", \"Operation\": \"training\", \"epoch\": 3, \"Meta\": \"training_data_iter\"}, \"Metrics\": {\"Total Records Seen\": {\"sum\": 505.0, \"count\": 1, \"min\": 505, \"max\": 505}, \"Total Batches Seen\": {\"sum\": 101.0, \"count\": 1, \"min\": 101, \"max\": 101}, \"Max Records Seen Between Resets\": {\"sum\": 100.0, \"count\": 1, \"min\": 100, \"max\": 100}, \"Max Batches Seen Between Resets\": {\"sum\": 20.0, \"count\": 1, \"min\": 20, \"max\": 20}, \"Reset Count\": {\"sum\": 6.0, \"count\": 1, \"min\": 6, \"max\": 6}, \"Number of Records Since Last Reset\": {\"sum\": 100.0, \"count\": 1, \"min\": 100, \"max\": 100}, \"Number of Batches Since Last Reset\": {\"sum\": 20.0, \"count\": 1, \"min\": 20, \"max\": 20}}}\u001b[0m\n",
      "\u001b[34m[11/05/2022 17:42:23 INFO 140670613550912] #throughput_metric: host=algo-1, train throughput=263.93961418777116 records/second\u001b[0m\n",
      "\u001b[34m[2022-11-05 17:42:23.761] [tensorio] [info] epoch_stats={\"data_pipeline\": \"/opt/ml/input/data/train\", \"epoch\": 12, \"duration\": 480, \"num_examples\": 20, \"num_bytes\": 4800}\u001b[0m\n",
      "\u001b[34m#metrics {\"StartTime\": 1667670143.7612429, \"EndTime\": 1667670143.761381, \"Dimensions\": {\"Algorithm\": \"Linear Learner\", \"Host\": \"algo-1\", \"Operation\": \"training\", \"epoch\": 4, \"model\": 0}, \"Metrics\": {\"train_absolute_loss_objective\": {\"sum\": 0.48271419525146486, \"count\": 1, \"min\": 0.48271419525146486, \"max\": 0.48271419525146486}}}\u001b[0m\n",
      "\u001b[34m#metrics {\"StartTime\": 1667670143.7615373, \"EndTime\": 1667670143.7615867, \"Dimensions\": {\"Algorithm\": \"Linear Learner\", \"Host\": \"algo-1\", \"Operation\": \"training\", \"epoch\": 4, \"model\": 1}, \"Metrics\": {\"train_absolute_loss_objective\": {\"sum\": 0.48772836327552793, \"count\": 1, \"min\": 0.48772836327552793, \"max\": 0.48772836327552793}}}\u001b[0m\n",
      "\u001b[34m#metrics {\"StartTime\": 1667670143.761654, \"EndTime\": 1667670143.7616744, \"Dimensions\": {\"Algorithm\": \"Linear Learner\", \"Host\": \"algo-1\", \"Operation\": \"training\", \"epoch\": 4, \"model\": 2}, \"Metrics\": {\"train_absolute_loss_objective\": {\"sum\": 0.4849281084537506, \"count\": 1, \"min\": 0.4849281084537506, \"max\": 0.4849281084537506}}}\u001b[0m\n",
      "\u001b[34m#metrics {\"StartTime\": 1667670143.7617633, \"EndTime\": 1667670143.7617855, \"Dimensions\": {\"Algorithm\": \"Linear Learner\", \"Host\": \"algo-1\", \"Operation\": \"training\", \"epoch\": 4, \"model\": 3}, \"Metrics\": {\"train_absolute_loss_objective\": {\"sum\": 0.4867943811416626, \"count\": 1, \"min\": 0.4867943811416626, \"max\": 0.4867943811416626}}}\u001b[0m\n",
      "\u001b[34m#metrics {\"StartTime\": 1667670143.7618413, \"EndTime\": 1667670143.7618597, \"Dimensions\": {\"Algorithm\": \"Linear Learner\", \"Host\": \"algo-1\", \"Operation\": \"training\", \"epoch\": 4, \"model\": 4}, \"Metrics\": {\"train_absolute_loss_objective\": {\"sum\": 0.19302689015865326, \"count\": 1, \"min\": 0.19302689015865326, \"max\": 0.19302689015865326}}}\u001b[0m\n",
      "\u001b[34m#metrics {\"StartTime\": 1667670143.7619493, \"EndTime\": 1667670143.7619698, \"Dimensions\": {\"Algorithm\": \"Linear Learner\", \"Host\": \"algo-1\", \"Operation\": \"training\", \"epoch\": 4, \"model\": 5}, \"Metrics\": {\"train_absolute_loss_objective\": {\"sum\": 0.17803825676441193, \"count\": 1, \"min\": 0.17803825676441193, \"max\": 0.17803825676441193}}}\u001b[0m\n",
      "\u001b[34m#metrics {\"StartTime\": 1667670143.7620246, \"EndTime\": 1667670143.7620416, \"Dimensions\": {\"Algorithm\": \"Linear Learner\", \"Host\": \"algo-1\", \"Operation\": \"training\", \"epoch\": 4, \"model\": 6}, \"Metrics\": {\"train_absolute_loss_objective\": {\"sum\": 0.1587758606672287, \"count\": 1, \"min\": 0.1587758606672287, \"max\": 0.1587758606672287}}}\u001b[0m\n",
      "\u001b[34m#metrics {\"StartTime\": 1667670143.7621484, \"EndTime\": 1667670143.7621698, \"Dimensions\": {\"Algorithm\": \"Linear Learner\", \"Host\": \"algo-1\", \"Operation\": \"training\", \"epoch\": 4, \"model\": 7}, \"Metrics\": {\"train_absolute_loss_objective\": {\"sum\": 0.1776880779862404, \"count\": 1, \"min\": 0.1776880779862404, \"max\": 0.1776880779862404}}}\u001b[0m\n",
      "\u001b[34m#metrics {\"StartTime\": 1667670143.762225, \"EndTime\": 1667670143.7622418, \"Dimensions\": {\"Algorithm\": \"Linear Learner\", \"Host\": \"algo-1\", \"Operation\": \"training\", \"epoch\": 4, \"model\": 8}, \"Metrics\": {\"train_absolute_loss_objective\": {\"sum\": 0.5331809997558594, \"count\": 1, \"min\": 0.5331809997558594, \"max\": 0.5331809997558594}}}\u001b[0m\n",
      "\u001b[34m#metrics {\"StartTime\": 1667670143.7623317, \"EndTime\": 1667670143.7623463, \"Dimensions\": {\"Algorithm\": \"Linear Learner\", \"Host\": \"algo-1\", \"Operation\": \"training\", \"epoch\": 4, \"model\": 9}, \"Metrics\": {\"train_absolute_loss_objective\": {\"sum\": 0.4586017882823944, \"count\": 1, \"min\": 0.4586017882823944, \"max\": 0.4586017882823944}}}\u001b[0m\n",
      "\u001b[34m#metrics {\"StartTime\": 1667670143.7623925, \"EndTime\": 1667670143.7624087, \"Dimensions\": {\"Algorithm\": \"Linear Learner\", \"Host\": \"algo-1\", \"Operation\": \"training\", \"epoch\": 4, \"model\": 10}, \"Metrics\": {\"train_absolute_loss_objective\": {\"sum\": 0.4781222343444824, \"count\": 1, \"min\": 0.4781222343444824, \"max\": 0.4781222343444824}}}\u001b[0m\n",
      "\u001b[34m#metrics {\"StartTime\": 1667670143.762501, \"EndTime\": 1667670143.7625215, \"Dimensions\": {\"Algorithm\": \"Linear Learner\", \"Host\": \"algo-1\", \"Operation\": \"training\", \"epoch\": 4, \"model\": 11}, \"Metrics\": {\"train_absolute_loss_objective\": {\"sum\": 0.45122108340263367, \"count\": 1, \"min\": 0.45122108340263367, \"max\": 0.45122108340263367}}}\u001b[0m\n",
      "\u001b[34m#metrics {\"StartTime\": 1667670143.7625787, \"EndTime\": 1667670143.7625954, \"Dimensions\": {\"Algorithm\": \"Linear Learner\", \"Host\": \"algo-1\", \"Operation\": \"training\", \"epoch\": 4, \"model\": 12}, \"Metrics\": {\"train_absolute_loss_objective\": {\"sum\": 0.1660407716035843, \"count\": 1, \"min\": 0.1660407716035843, \"max\": 0.1660407716035843}}}\u001b[0m\n",
      "\u001b[34m#metrics {\"StartTime\": 1667670143.7626822, \"EndTime\": 1667670143.7627017, \"Dimensions\": {\"Algorithm\": \"Linear Learner\", \"Host\": \"algo-1\", \"Operation\": \"training\", \"epoch\": 4, \"model\": 13}, \"Metrics\": {\"train_absolute_loss_objective\": {\"sum\": 0.3427649015188217, \"count\": 1, \"min\": 0.3427649015188217, \"max\": 0.3427649015188217}}}\u001b[0m\n",
      "\u001b[34m#metrics {\"StartTime\": 1667670143.7627566, \"EndTime\": 1667670143.7627738, \"Dimensions\": {\"Algorithm\": \"Linear Learner\", \"Host\": \"algo-1\", \"Operation\": \"training\", \"epoch\": 4, \"model\": 14}, \"Metrics\": {\"train_absolute_loss_objective\": {\"sum\": 0.17217996150255202, \"count\": 1, \"min\": 0.17217996150255202, \"max\": 0.17217996150255202}}}\u001b[0m\n",
      "\u001b[34m#metrics {\"StartTime\": 1667670143.7628675, \"EndTime\": 1667670143.7628877, \"Dimensions\": {\"Algorithm\": \"Linear Learner\", \"Host\": \"algo-1\", \"Operation\": \"training\", \"epoch\": 4, \"model\": 15}, \"Metrics\": {\"train_absolute_loss_objective\": {\"sum\": 0.2134617882966995, \"count\": 1, \"min\": 0.2134617882966995, \"max\": 0.2134617882966995}}}\u001b[0m\n",
      "\u001b[34m#metrics {\"StartTime\": 1667670143.7629402, \"EndTime\": 1667670143.7629797, \"Dimensions\": {\"Algorithm\": \"Linear Learner\", \"Host\": \"algo-1\", \"Operation\": \"training\", \"epoch\": 4, \"model\": 16}, \"Metrics\": {\"train_absolute_loss_objective\": {\"sum\": 0.48842396020889284, \"count\": 1, \"min\": 0.48842396020889284, \"max\": 0.48842396020889284}}}\u001b[0m\n",
      "\u001b[34m#metrics {\"StartTime\": 1667670143.763043, \"EndTime\": 1667670143.763061, \"Dimensions\": {\"Algorithm\": \"Linear Learner\", \"Host\": \"algo-1\", \"Operation\": \"training\", \"epoch\": 4, \"model\": 17}, \"Metrics\": {\"train_absolute_loss_objective\": {\"sum\": 0.52107839345932, \"count\": 1, \"min\": 0.52107839345932, \"max\": 0.52107839345932}}}\u001b[0m\n",
      "\u001b[34m#metrics {\"StartTime\": 1667670143.7630992, \"EndTime\": 1667670143.7631114, \"Dimensions\": {\"Algorithm\": \"Linear Learner\", \"Host\": \"algo-1\", \"Operation\": \"training\", \"epoch\": 4, \"model\": 18}, \"Metrics\": {\"train_absolute_loss_objective\": {\"sum\": 0.5107946062088012, \"count\": 1, \"min\": 0.5107946062088012, \"max\": 0.5107946062088012}}}\u001b[0m\n",
      "\u001b[34m#metrics {\"StartTime\": 1667670143.7631602, \"EndTime\": 1667670143.763176, \"Dimensions\": {\"Algorithm\": \"Linear Learner\", \"Host\": \"algo-1\", \"Operation\": \"training\", \"epoch\": 4, \"model\": 19}, \"Metrics\": {\"train_absolute_loss_objective\": {\"sum\": 0.49883693575859067, \"count\": 1, \"min\": 0.49883693575859067, \"max\": 0.49883693575859067}}}\u001b[0m\n",
      "\u001b[34m#metrics {\"StartTime\": 1667670143.7632213, \"EndTime\": 1667670143.7632372, \"Dimensions\": {\"Algorithm\": \"Linear Learner\", \"Host\": \"algo-1\", \"Operation\": \"training\", \"epoch\": 4, \"model\": 20}, \"Metrics\": {\"train_absolute_loss_objective\": {\"sum\": 0.28894803166389466, \"count\": 1, \"min\": 0.28894803166389466, \"max\": 0.28894803166389466}}}\u001b[0m\n",
      "\u001b[34m#metrics {\"StartTime\": 1667670143.7632895, \"EndTime\": 1667670143.763307, \"Dimensions\": {\"Algorithm\": \"Linear Learner\", \"Host\": \"algo-1\", \"Operation\": \"training\", \"epoch\": 4, \"model\": 21}, \"Metrics\": {\"train_absolute_loss_objective\": {\"sum\": 0.3158455616235733, \"count\": 1, \"min\": 0.3158455616235733, \"max\": 0.3158455616235733}}}\u001b[0m\n",
      "\u001b[34m#metrics {\"StartTime\": 1667670143.763359, \"EndTime\": 1667670143.7633758, \"Dimensions\": {\"Algorithm\": \"Linear Learner\", \"Host\": \"algo-1\", \"Operation\": \"training\", \"epoch\": 4, \"model\": 22}, \"Metrics\": {\"train_absolute_loss_objective\": {\"sum\": 0.2876466166973114, \"count\": 1, \"min\": 0.2876466166973114, \"max\": 0.2876466166973114}}}\u001b[0m\n",
      "\u001b[34m#metrics {\"StartTime\": 1667670143.7634308, \"EndTime\": 1667670143.7634473, \"Dimensions\": {\"Algorithm\": \"Linear Learner\", \"Host\": \"algo-1\", \"Operation\": \"training\", \"epoch\": 4, \"model\": 23}, \"Metrics\": {\"train_absolute_loss_objective\": {\"sum\": 0.31961873710155486, \"count\": 1, \"min\": 0.31961873710155486, \"max\": 0.31961873710155486}}}\u001b[0m\n",
      "\u001b[34m#metrics {\"StartTime\": 1667670143.7634895, \"EndTime\": 1667670143.763499, \"Dimensions\": {\"Algorithm\": \"Linear Learner\", \"Host\": \"algo-1\", \"Operation\": \"training\", \"epoch\": 4, \"model\": 24}, \"Metrics\": {\"train_absolute_loss_objective\": {\"sum\": 0.8218610644340515, \"count\": 1, \"min\": 0.8218610644340515, \"max\": 0.8218610644340515}}}\u001b[0m\n",
      "\u001b[34m#metrics {\"StartTime\": 1667670143.7635372, \"EndTime\": 1667670143.7635517, \"Dimensions\": {\"Algorithm\": \"Linear Learner\", \"Host\": \"algo-1\", \"Operation\": \"training\", \"epoch\": 4, \"model\": 25}, \"Metrics\": {\"train_absolute_loss_objective\": {\"sum\": 0.8221570324897766, \"count\": 1, \"min\": 0.8221570324897766, \"max\": 0.8221570324897766}}}\u001b[0m\n",
      "\u001b[34m#metrics {\"StartTime\": 1667670143.7636037, \"EndTime\": 1667670143.7636178, \"Dimensions\": {\"Algorithm\": \"Linear Learner\", \"Host\": \"algo-1\", \"Operation\": \"training\", \"epoch\": 4, \"model\": 26}, \"Metrics\": {\"train_absolute_loss_objective\": {\"sum\": 0.8210888218879699, \"count\": 1, \"min\": 0.8210888218879699, \"max\": 0.8210888218879699}}}\u001b[0m\n",
      "\u001b[34m#metrics {\"StartTime\": 1667670143.7636683, \"EndTime\": 1667670143.7636855, \"Dimensions\": {\"Algorithm\": \"Linear Learner\", \"Host\": \"algo-1\", \"Operation\": \"training\", \"epoch\": 4, \"model\": 27}, \"Metrics\": {\"train_absolute_loss_objective\": {\"sum\": 0.8221665525436401, \"count\": 1, \"min\": 0.8221665525436401, \"max\": 0.8221665525436401}}}\u001b[0m\n",
      "\u001b[34m#metrics {\"StartTime\": 1667670143.7637382, \"EndTime\": 1667670143.7637548, \"Dimensions\": {\"Algorithm\": \"Linear Learner\", \"Host\": \"algo-1\", \"Operation\": \"training\", \"epoch\": 4, \"model\": 28}, \"Metrics\": {\"train_absolute_loss_objective\": {\"sum\": 0.8624137592315674, \"count\": 1, \"min\": 0.8624137592315674, \"max\": 0.8624137592315674}}}\u001b[0m\n",
      "\u001b[34m#metrics {\"StartTime\": 1667670143.7638133, \"EndTime\": 1667670143.7638314, \"Dimensions\": {\"Algorithm\": \"Linear Learner\", \"Host\": \"algo-1\", \"Operation\": \"training\", \"epoch\": 4, \"model\": 29}, \"Metrics\": {\"train_absolute_loss_objective\": {\"sum\": 0.8643683195114136, \"count\": 1, \"min\": 0.8643683195114136, \"max\": 0.8643683195114136}}}\u001b[0m\n",
      "\u001b[34m#metrics {\"StartTime\": 1667670143.7638853, \"EndTime\": 1667670143.7639027, \"Dimensions\": {\"Algorithm\": \"Linear Learner\", \"Host\": \"algo-1\", \"Operation\": \"training\", \"epoch\": 4, \"model\": 30}, \"Metrics\": {\"train_absolute_loss_objective\": {\"sum\": 0.8697858142852783, \"count\": 1, \"min\": 0.8697858142852783, \"max\": 0.8697858142852783}}}\u001b[0m\n",
      "\u001b[34m#metrics {\"StartTime\": 1667670143.7639704, \"EndTime\": 1667670143.763988, \"Dimensions\": {\"Algorithm\": \"Linear Learner\", \"Host\": \"algo-1\", \"Operation\": \"training\", \"epoch\": 4, \"model\": 31}, \"Metrics\": {\"train_absolute_loss_objective\": {\"sum\": 0.8723328852653504, \"count\": 1, \"min\": 0.8723328852653504, \"max\": 0.8723328852653504}}}\u001b[0m\n",
      "\u001b[34m[11/05/2022 17:42:23 INFO 140670613550912] #quality_metric: host=algo-1, epoch=4, train absolute_loss_objective <loss>=0.48271419525146486\u001b[0m\n",
      "\u001b[34m[11/05/2022 17:42:23 INFO 140670613550912] #early_stopping_criteria_metric: host=algo-1, epoch=4, criteria=absolute_loss_objective, value=0.1587758606672287\u001b[0m\n",
      "\u001b[34m[11/05/2022 17:42:23 INFO 140670613550912] Saving model for epoch: 4\u001b[0m\n",
      "\u001b[34m[11/05/2022 17:42:23 INFO 140670613550912] Saved checkpoint to \"/tmp/tmphluj9w0k/mx-mod-0000.params\"\u001b[0m\n",
      "\u001b[34m[11/05/2022 17:42:23 INFO 140670613550912] #progress_metric: host=algo-1, completed 100.0 % of epochs\u001b[0m\n",
      "\u001b[34m#metrics {\"StartTime\": 1667670143.2802813, \"EndTime\": 1667670143.7737784, \"Dimensions\": {\"Algorithm\": \"Linear Learner\", \"Host\": \"algo-1\", \"Operation\": \"training\", \"epoch\": 4, \"Meta\": \"training_data_iter\"}, \"Metrics\": {\"Total Records Seen\": {\"sum\": 605.0, \"count\": 1, \"min\": 605, \"max\": 605}, \"Total Batches Seen\": {\"sum\": 121.0, \"count\": 1, \"min\": 121, \"max\": 121}, \"Max Records Seen Between Resets\": {\"sum\": 100.0, \"count\": 1, \"min\": 100, \"max\": 100}, \"Max Batches Seen Between Resets\": {\"sum\": 20.0, \"count\": 1, \"min\": 20, \"max\": 20}, \"Reset Count\": {\"sum\": 7.0, \"count\": 1, \"min\": 7, \"max\": 7}, \"Number of Records Since Last Reset\": {\"sum\": 100.0, \"count\": 1, \"min\": 100, \"max\": 100}, \"Number of Batches Since Last Reset\": {\"sum\": 20.0, \"count\": 1, \"min\": 20, \"max\": 20}}}\u001b[0m\n",
      "\u001b[34m[11/05/2022 17:42:23 INFO 140670613550912] #throughput_metric: host=algo-1, train throughput=202.57131983470916 records/second\u001b[0m\n",
      "\u001b[34m[11/05/2022 17:42:23 WARNING 140670613550912] wait_for_all_workers will not sync workers since the kv store is not running distributed\u001b[0m\n",
      "\u001b[34m[11/05/2022 17:42:23 WARNING 140670613550912] wait_for_all_workers will not sync workers since the kv store is not running distributed\u001b[0m\n",
      "\u001b[34m[2022-11-05 17:42:23.775] [tensorio] [info] epoch_stats={\"data_pipeline\": \"/opt/ml/input/data/train\", \"epoch\": 14, \"duration\": 0, \"num_examples\": 1, \"num_bytes\": 240}\u001b[0m\n",
      "\u001b[34m[2022-11-05 17:42:23.826] [tensorio] [info] epoch_stats={\"data_pipeline\": \"/opt/ml/input/data/train\", \"epoch\": 16, \"duration\": 48, \"num_examples\": 20, \"num_bytes\": 4800}\u001b[0m\n",
      "\u001b[34m[11/05/2022 17:42:23 INFO 140670613550912] #train_score (algo-1) : ('absolute_loss_objective', 21.11580581665039)\u001b[0m\n",
      "\u001b[34m[11/05/2022 17:42:23 INFO 140670613550912] #train_score (algo-1) : ('mse', 725.4715686035156)\u001b[0m\n",
      "\u001b[34m[11/05/2022 17:42:23 INFO 140670613550912] #train_score (algo-1) : ('absolute_loss', 21.11580581665039)\u001b[0m\n",
      "\u001b[34m[11/05/2022 17:42:23 INFO 140670613550912] #train_score (algo-1) : ('rmse', 26.93457942132224)\u001b[0m\n",
      "\u001b[34m[11/05/2022 17:42:23 INFO 140670613550912] #train_score (algo-1) : ('r2', 0.9735675101157255)\u001b[0m\n",
      "\u001b[34m[11/05/2022 17:42:23 INFO 140670613550912] #train_score (algo-1) : ('mae', 21.11580581665039)\u001b[0m\n",
      "\u001b[34m[11/05/2022 17:42:23 INFO 140670613550912] #quality_metric: host=algo-1, train absolute_loss_objective <loss>=21.11580581665039\u001b[0m\n",
      "\u001b[34m[11/05/2022 17:42:23 INFO 140670613550912] #quality_metric: host=algo-1, train mse <loss>=725.4715686035156\u001b[0m\n",
      "\u001b[34m[11/05/2022 17:42:23 INFO 140670613550912] #quality_metric: host=algo-1, train absolute_loss <loss>=21.11580581665039\u001b[0m\n",
      "\u001b[34m[11/05/2022 17:42:23 INFO 140670613550912] #quality_metric: host=algo-1, train rmse <loss>=26.93457942132224\u001b[0m\n",
      "\u001b[34m[11/05/2022 17:42:23 INFO 140670613550912] #quality_metric: host=algo-1, train r2 <loss>=0.9735675101157255\u001b[0m\n",
      "\u001b[34m[11/05/2022 17:42:23 INFO 140670613550912] #quality_metric: host=algo-1, train mae <loss>=21.11580581665039\u001b[0m\n",
      "\u001b[34m[11/05/2022 17:42:23 INFO 140670613550912] Best model found for hyperparameters: {\"optimizer\": \"adam\", \"learning_rate\": 0.1, \"wd\": 0.01, \"l1\": 0.0, \"lr_scheduler_step\": 10, \"lr_scheduler_factor\": 0.99, \"lr_scheduler_minimum_lr\": 0.0001}\u001b[0m\n",
      "\u001b[34m[11/05/2022 17:42:23 INFO 140670613550912] Saved checkpoint to \"/tmp/tmpj86yevex/mx-mod-0000.params\"\u001b[0m\n",
      "\u001b[34m[11/05/2022 17:42:23 INFO 140670613550912] Test data is not provided.\u001b[0m\n",
      "\u001b[34m#metrics {\"StartTime\": 1667670141.3404706, \"EndTime\": 1667670143.838727, \"Dimensions\": {\"Algorithm\": \"Linear Learner\", \"Host\": \"algo-1\", \"Operation\": \"training\"}, \"Metrics\": {\"initialize.time\": {\"sum\": 294.8265075683594, \"count\": 1, \"min\": 294.8265075683594, \"max\": 294.8265075683594}, \"epochs\": {\"sum\": 5.0, \"count\": 1, \"min\": 5, \"max\": 5}, \"check_early_stopping.time\": {\"sum\": 3.9260387420654297, \"count\": 5, \"min\": 0.23627281188964844, \"max\": 1.2233257293701172}, \"update.time\": {\"sum\": 2119.1747188568115, \"count\": 5, \"min\": 375.69427490234375, \"max\": 490.49925804138184}, \"finalize.time\": {\"sum\": 56.2744140625, \"count\": 1, \"min\": 56.2744140625, \"max\": 56.2744140625}, \"setuptime\": {\"sum\": 3.222942352294922, \"count\": 1, \"min\": 3.222942352294922, \"max\": 3.222942352294922}, \"totaltime\": {\"sum\": 2666.3525104522705, \"count\": 1, \"min\": 2666.3525104522705, \"max\": 2666.3525104522705}}}\u001b[0m\n",
      "\n",
      "2022-11-05 17:42:46 Uploading - Uploading generated training model\n",
      "2022-11-05 17:42:46 Completed - Training job completed\n",
      "Training seconds: 158\n",
      "Billable seconds: 158\n"
     ]
    }
   ],
   "source": [
    "# Now we are ready to pass in the training data from S3 to train the linear learner model\n",
    "linear.fit({'train': s3_train_data})"
   ]
  },
  {
   "cell_type": "code",
   "execution_count": 199,
   "id": "e1668220",
   "metadata": {},
   "outputs": [],
   "source": [
    "# you can see the logs on CloudWatch log group aws/sagemaker/TrainingJobs"
   ]
  },
  {
   "cell_type": "markdown",
   "id": "3bc2c195",
   "metadata": {},
   "source": [
    "### 7. Deploy and test the model"
   ]
  },
  {
   "cell_type": "code",
   "execution_count": 200,
   "id": "bcf0be62",
   "metadata": {},
   "outputs": [],
   "source": [
    "# serializer:  encode data for an inference endpoint.\n",
    "# deserializer: decode data from an inference endpoint.\n",
    "from sagemaker.deserializers import JSONDeserializer\n",
    "from sagemaker.serializers import CSVSerializer"
   ]
  },
  {
   "cell_type": "code",
   "execution_count": 201,
   "id": "6f733323",
   "metadata": {},
   "outputs": [
    {
     "name": "stdout",
     "output_type": "stream",
     "text": [
      "--------!"
     ]
    }
   ],
   "source": [
    "# when the deploy is completed you will se --------! below this cell\n",
    "linear_regressor = linear.deploy(initial_instance_count = 1,\n",
    "                                 instance_type = 'ml.m4.xlarge',\n",
    "                                 serializer = CSVSerializer(),\n",
    "                                 deserializer = JSONDeserializer())"
   ]
  },
  {
   "cell_type": "code",
   "execution_count": 202,
   "id": "398c9fe6",
   "metadata": {},
   "outputs": [],
   "source": [
    "result = linear_regressor.predict(x_test)"
   ]
  },
  {
   "cell_type": "code",
   "execution_count": 204,
   "id": "b14eb79a",
   "metadata": {},
   "outputs": [],
   "source": [
    "predictions = np.array([r['score'] for r in result['predictions']])"
   ]
  },
  {
   "cell_type": "code",
   "execution_count": 205,
   "id": "cb710f46",
   "metadata": {},
   "outputs": [
    {
     "data": {
      "text/plain": [
       "array([837.80114746, 678.12109375, 465.02120972, 375.78939819,\n",
       "       357.74411011, 549.44488525, 392.84609985, 451.0668335 ,\n",
       "       593.33508301, 581.70239258, 427.44708252, 455.39794922,\n",
       "       622.10192871, 592.44995117, 871.0369873 , 264.52801514,\n",
       "       677.1817627 , 651.96875   , 611.04663086, 482.61386108,\n",
       "       695.51049805, 413.50927734, 369.80218506, 664.52905273,\n",
       "       461.52102661, 508.48562622, 309.11785889, 587.86657715,\n",
       "       326.84686279, 449.69076538, 532.6998291 , 368.41882324,\n",
       "       676.47937012, 641.57775879, 206.76365662, 177.12945557,\n",
       "       417.55047607, 326.87026978, 659.62487793, 622.42407227,\n",
       "       559.11279297, 582.81628418, 762.86132812, 827.47021484,\n",
       "       552.6697998 , 511.07598877, 501.20675659, 662.93237305,\n",
       "       421.18395996, 263.38446045, 787.47119141, 530.45300293,\n",
       "       453.9213562 , 757.28491211, 268.02600098, 730.91882324,\n",
       "       644.76843262, 744.21240234, 404.15936279, 653.31396484,\n",
       "       682.32666016, 646.20397949, 910.06408691, 473.81967163,\n",
       "       613.56359863, 623.88708496, 606.58764648, 461.17980957,\n",
       "       473.1491394 , 315.24346924, 456.37750244, 372.2645874 ,\n",
       "       423.18130493, 397.87475586, 767.71911621, 272.39703369,\n",
       "       672.48547363, 487.83035278, 590.81286621, 496.05697632,\n",
       "       514.5723877 , 414.60595703, 385.55966187, 267.53759766,\n",
       "       419.09945679, 737.90820312, 557.91131592, 730.91467285,\n",
       "       369.07174683, 445.41299438, 156.89892578, 713.05993652,\n",
       "       373.75097656, 710.31652832, 628.99914551, 622.3951416 ,\n",
       "       236.68666077, 355.67370605, 623.453125  , 548.609375  ])"
      ]
     },
     "execution_count": 205,
     "metadata": {},
     "output_type": "execute_result"
    }
   ],
   "source": [
    "predictions"
   ]
  },
  {
   "cell_type": "code",
   "execution_count": 206,
   "id": "de8ca3c7",
   "metadata": {},
   "outputs": [
    {
     "data": {
      "image/png": "[encoded data removed]",
      "text/plain": [
       "<Figure size 720x432 with 1 Axes>"
      ]
     },
     "metadata": {
      "needs_background": "light"
     },
     "output_type": "display_data"
    }
   ],
   "source": [
    "plt.figure(figsize = (10, 6))\n",
    "plt.scatter(x_test, y_test, color = 'blue')\n",
    "plt.plot(x_test, predictions, color = 'red')\n",
    "plt.xlabel('Temperature (Celsius)')\n",
    "plt.ylabel('Revenue ($)')\n",
    "plt.title('Temperature vs Revenue (Testing dataset)')\n",
    "plt.grid()"
   ]
  },
  {
   "cell_type": "code",
   "execution_count": 207,
   "id": "57d01f57",
   "metadata": {},
   "outputs": [
    {
     "name": "stdout",
     "output_type": "stream",
     "text": [
      "{'predictions': [{'score': 265.493408203125}]}\n"
     ]
    }
   ],
   "source": [
    "temperature = [[10]]\n",
    "revenue = linear_regressor.predict(temperature)\n",
    "print(revenue)"
   ]
  },
  {
   "cell_type": "code",
   "execution_count": 208,
   "id": "b0cf9e18",
   "metadata": {},
   "outputs": [
    {
     "name": "stdout",
     "output_type": "stream",
     "text": [
      "{'predictions': [{'score': 794.281005859375}]}\n"
     ]
    }
   ],
   "source": [
    "temperature = [[35]] \n",
    "revenue = linear_regressor.predict(temperature)\n",
    "print(revenue)"
   ]
  },
  {
   "cell_type": "markdown",
   "id": "944f60e1",
   "metadata": {},
   "source": [
    "### 8. Deleting the endpoint"
   ]
  },
  {
   "cell_type": "code",
   "execution_count": 212,
   "id": "150bda02",
   "metadata": {},
   "outputs": [],
   "source": [
    "# Delete the end-point\n",
    "linear_regressor.delete_endpoint()"
   ]
  },
  {
   "cell_type": "code",
   "execution_count": null,
   "id": "eec9797b",
   "metadata": {},
   "outputs": [],
   "source": []
  }
 ],
 "metadata": {
  "kernelspec": {
   "display_name": "conda_python3",
   "language": "python",
   "name": "conda_python3"
  },
  "language_info": {
   "codemirror_mode": {
    "name": "ipython",
    "version": 3
   },
   "file_extension": ".py",
   "mimetype": "text/x-python",
   "name": "python",
   "nbconvert_exporter": "python",
   "pygments_lexer": "ipython3",
   "version": "3.6.13"
  }
 },
 "nbformat": 4,
 "nbformat_minor": 5
}
