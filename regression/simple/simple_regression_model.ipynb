{
 "cells": [
  {
   "cell_type": "code",
   "execution_count": 114,
   "id": "55ecd75d",
   "metadata": {},
   "outputs": [],
   "source": [
    "import pandas as pd\n",
    "import numpy as np\n",
    "import seaborn as sns\n",
    "import matplotlib.pyplot as plt\n",
    "from sklearn.model_selection import train_test_split\n",
    "from sklearn.linear_model import LinearRegression\n",
    "from sklearn.metrics import mean_squared_error, accuracy_score"
   ]
  },
  {
   "cell_type": "code",
   "execution_count": 115,
   "id": "c9e5a15a",
   "metadata": {},
   "outputs": [],
   "source": [
    "# you can use the command below to check packages available and their respective versions\n",
    "#!pip list"
   ]
  },
  {
   "cell_type": "code",
   "execution_count": 116,
   "id": "cc7b5ae3",
   "metadata": {},
   "outputs": [
    {
     "name": "stdout",
     "output_type": "stream",
     "text": [
      "<class 'pandas.core.frame.DataFrame'>\n",
      "RangeIndex: 500 entries, 0 to 499\n",
      "Data columns (total 2 columns):\n",
      " #   Column       Non-Null Count  Dtype  \n",
      "---  ------       --------------  -----  \n",
      " 0   Temperature  500 non-null    float64\n",
      " 1   Revenue      500 non-null    float64\n",
      "dtypes: float64(2)\n",
      "memory usage: 7.9 KB\n"
     ]
    }
   ],
   "source": [
    "ice_screen_df = pd.read_csv('tania/datasets/IceCreamData.csv')\n",
    "ice_screen_df.info()"
   ]
  },
  {
   "cell_type": "code",
   "execution_count": 117,
   "id": "ac060ae9",
   "metadata": {},
   "outputs": [
    {
     "data": {
      "text/html": [
       "<div>\n",
       "<style scoped>\n",
       "    .dataframe tbody tr th:only-of-type {\n",
       "        vertical-align: middle;\n",
       "    }\n",
       "\n",
       "    .dataframe tbody tr th {\n",
       "        vertical-align: top;\n",
       "    }\n",
       "\n",
       "    .dataframe thead th {\n",
       "        text-align: right;\n",
       "    }\n",
       "</style>\n",
       "<table border=\"1\" class=\"dataframe\">\n",
       "  <thead>\n",
       "    <tr style=\"text-align: right;\">\n",
       "      <th></th>\n",
       "      <th>Temperature</th>\n",
       "      <th>Revenue</th>\n",
       "    </tr>\n",
       "  </thead>\n",
       "  <tbody>\n",
       "    <tr>\n",
       "      <th>0</th>\n",
       "      <td>24.566884</td>\n",
       "      <td>534.799028</td>\n",
       "    </tr>\n",
       "    <tr>\n",
       "      <th>1</th>\n",
       "      <td>26.005191</td>\n",
       "      <td>625.190122</td>\n",
       "    </tr>\n",
       "    <tr>\n",
       "      <th>2</th>\n",
       "      <td>27.790554</td>\n",
       "      <td>660.632289</td>\n",
       "    </tr>\n",
       "    <tr>\n",
       "      <th>3</th>\n",
       "      <td>20.595335</td>\n",
       "      <td>487.706960</td>\n",
       "    </tr>\n",
       "    <tr>\n",
       "      <th>4</th>\n",
       "      <td>11.503498</td>\n",
       "      <td>316.240194</td>\n",
       "    </tr>\n",
       "  </tbody>\n",
       "</table>\n",
       "</div>"
      ],
      "text/plain": [
       "   Temperature     Revenue\n",
       "0    24.566884  534.799028\n",
       "1    26.005191  625.190122\n",
       "2    27.790554  660.632289\n",
       "3    20.595335  487.706960\n",
       "4    11.503498  316.240194"
      ]
     },
     "execution_count": 117,
     "metadata": {},
     "output_type": "execute_result"
    }
   ],
   "source": [
    "ice_screen_df.head()"
   ]
  },
  {
   "cell_type": "code",
   "execution_count": 118,
   "id": "40efcb2a",
   "metadata": {},
   "outputs": [
    {
     "data": {
      "text/html": [
       "<div>\n",
       "<style scoped>\n",
       "    .dataframe tbody tr th:only-of-type {\n",
       "        vertical-align: middle;\n",
       "    }\n",
       "\n",
       "    .dataframe tbody tr th {\n",
       "        vertical-align: top;\n",
       "    }\n",
       "\n",
       "    .dataframe thead th {\n",
       "        text-align: right;\n",
       "    }\n",
       "</style>\n",
       "<table border=\"1\" class=\"dataframe\">\n",
       "  <thead>\n",
       "    <tr style=\"text-align: right;\">\n",
       "      <th></th>\n",
       "      <th>Temperature</th>\n",
       "      <th>Revenue</th>\n",
       "    </tr>\n",
       "  </thead>\n",
       "  <tbody>\n",
       "    <tr>\n",
       "      <th>count</th>\n",
       "      <td>500.000000</td>\n",
       "      <td>500.000000</td>\n",
       "    </tr>\n",
       "    <tr>\n",
       "      <th>mean</th>\n",
       "      <td>22.232225</td>\n",
       "      <td>521.570777</td>\n",
       "    </tr>\n",
       "    <tr>\n",
       "      <th>std</th>\n",
       "      <td>8.096388</td>\n",
       "      <td>175.404751</td>\n",
       "    </tr>\n",
       "    <tr>\n",
       "      <th>min</th>\n",
       "      <td>0.000000</td>\n",
       "      <td>10.000000</td>\n",
       "    </tr>\n",
       "    <tr>\n",
       "      <th>25%</th>\n",
       "      <td>17.122258</td>\n",
       "      <td>405.558681</td>\n",
       "    </tr>\n",
       "    <tr>\n",
       "      <th>50%</th>\n",
       "      <td>22.392791</td>\n",
       "      <td>529.368565</td>\n",
       "    </tr>\n",
       "    <tr>\n",
       "      <th>75%</th>\n",
       "      <td>27.740674</td>\n",
       "      <td>642.257922</td>\n",
       "    </tr>\n",
       "    <tr>\n",
       "      <th>max</th>\n",
       "      <td>45.000000</td>\n",
       "      <td>1000.000000</td>\n",
       "    </tr>\n",
       "  </tbody>\n",
       "</table>\n",
       "</div>"
      ],
      "text/plain": [
       "       Temperature      Revenue\n",
       "count   500.000000   500.000000\n",
       "mean     22.232225   521.570777\n",
       "std       8.096388   175.404751\n",
       "min       0.000000    10.000000\n",
       "25%      17.122258   405.558681\n",
       "50%      22.392791   529.368565\n",
       "75%      27.740674   642.257922\n",
       "max      45.000000  1000.000000"
      ]
     },
     "execution_count": 118,
     "metadata": {},
     "output_type": "execute_result"
    }
   ],
   "source": [
    "ice_screen_df.describe()"
   ]
  },
  {
   "cell_type": "code",
   "execution_count": 119,
   "id": "d2b025a5",
   "metadata": {},
   "outputs": [
    {
     "data": {
      "text/plain": [
       "<seaborn.axisgrid.PairGrid at 0x7f8f8f108ba8>"
      ]
     },
     "execution_count": 119,
     "metadata": {},
     "output_type": "execute_result"
    },
    {
     "data": {
      "image/png": "[encoded data removed]",
      "text/plain": [
       "<Figure size 360x360 with 6 Axes>"
      ]
     },
     "metadata": {
      "needs_background": "light"
     },
     "output_type": "display_data"
    }
   ],
   "source": [
    "# there is a positive correlation between temperature and revenue\n",
    "sns.pairplot(ice_screen_df)"
   ]
  },
  {
   "cell_type": "code",
   "execution_count": 138,
   "id": "9e1fadac",
   "metadata": {},
   "outputs": [
    {
     "data": {
      "text/plain": [
       "<seaborn.axisgrid.JointGrid at 0x7f8f8ecf1a90>"
      ]
     },
     "execution_count": 138,
     "metadata": {},
     "output_type": "execute_result"
    },
    {
     "data": {
      "image/png": "[encoded data removed]",
      "text/plain": [
       "<Figure size 432x432 with 3 Axes>"
      ]
     },
     "metadata": {
      "needs_background": "light"
     },
     "output_type": "display_data"
    }
   ],
   "source": [
    "sns.jointplot(x='Temperature', y='Revenue', data=ice_screen_df)"
   ]
  },
  {
   "cell_type": "code",
   "execution_count": 140,
   "id": "2dab36af",
   "metadata": {},
   "outputs": [
    {
     "data": {
      "text/plain": [
       "<seaborn.axisgrid.FacetGrid at 0x7f8f8fc1d438>"
      ]
     },
     "execution_count": 140,
     "metadata": {},
     "output_type": "execute_result"
    },
    {
     "data": {
      "image/png": "[encoded data removed]",
      "text/plain": [
       "<Figure size 360x360 with 1 Axes>"
      ]
     },
     "metadata": {
      "needs_background": "light"
     },
     "output_type": "display_data"
    }
   ],
   "source": [
    "sns.lmplot(x='Temperature', y='Revenue', data=ice_screen_df)"
   ]
  },
  {
   "cell_type": "code",
   "execution_count": 120,
   "id": "4bf342cf",
   "metadata": {},
   "outputs": [
    {
     "data": {
      "text/plain": [
       "Text(0.5, 0.98, 'Revenue Histogram')"
      ]
     },
     "execution_count": 120,
     "metadata": {},
     "output_type": "execute_result"
    },
    {
     "data": {
      "image/png": "[encoded data removed]",
      "text/plain": [
       "<Figure size 648x216 with 2 Axes>"
      ]
     },
     "metadata": {
      "needs_background": "light"
     },
     "output_type": "display_data"
    }
   ],
   "source": [
    "fig, (ax1, ax2) = plt.subplots(1, 2)\n",
    "ice_screen_df['Temperature'].hist(ax=ax1, bins=50, figsize=[9,3], color='b')\n",
    "fig.suptitle('Temperature Histogram')\n",
    "ice_screen_df['Revenue'].hist(ax=ax2, bins=50, figsize=[9,3], color='r')\n",
    "fig.suptitle('Revenue Histogram')"
   ]
  },
  {
   "cell_type": "code",
   "execution_count": 121,
   "id": "065a80c0",
   "metadata": {},
   "outputs": [
    {
     "data": {
      "text/plain": [
       "<AxesSubplot:>"
      ]
     },
     "execution_count": 121,
     "metadata": {},
     "output_type": "execute_result"
    },
    {
     "data": {
      "image/png": "[encoded data removed]",
      "text/plain": [
       "<Figure size 432x288 with 2 Axes>"
      ]
     },
     "metadata": {
      "needs_background": "light"
     },
     "output_type": "display_data"
    }
   ],
   "source": [
    "sns.heatmap(ice_screen_df.corr(), annot=True)"
   ]
  },
  {
   "cell_type": "code",
   "execution_count": 122,
   "id": "adf08753",
   "metadata": {},
   "outputs": [],
   "source": [
    "x = ice_screen_df[['Temperature']]\n",
    "y = ice_screen_df[['Revenue']]"
   ]
  },
  {
   "cell_type": "code",
   "execution_count": 123,
   "id": "10176a08",
   "metadata": {},
   "outputs": [],
   "source": [
    "# Convert the datatype to float32\n",
    "x = np.array(x).astype('float32')\n",
    "y = np.array(y).astype('float32')"
   ]
  },
  {
   "cell_type": "code",
   "execution_count": 124,
   "id": "1aa95101",
   "metadata": {},
   "outputs": [],
   "source": [
    "# split data into train and test\n",
    "x_train, x_test, y_train, y_test = train_test_split(x, y, test_size=0.2)"
   ]
  },
  {
   "cell_type": "code",
   "execution_count": 125,
   "id": "aa486cc9",
   "metadata": {},
   "outputs": [
    {
     "data": {
      "text/plain": [
       "(400, 1)"
      ]
     },
     "execution_count": 125,
     "metadata": {},
     "output_type": "execute_result"
    }
   ],
   "source": [
    "x_train.shape"
   ]
  },
  {
   "cell_type": "code",
   "execution_count": 126,
   "id": "c3fe02a4",
   "metadata": {},
   "outputs": [
    {
     "data": {
      "text/plain": [
       "(100, 1)"
      ]
     },
     "execution_count": 126,
     "metadata": {},
     "output_type": "execute_result"
    }
   ],
   "source": [
    "x_test.shape"
   ]
  },
  {
   "cell_type": "code",
   "execution_count": 127,
   "id": "470393d4",
   "metadata": {},
   "outputs": [
    {
     "data": {
      "text/plain": [
       "(400, 1)"
      ]
     },
     "execution_count": 127,
     "metadata": {},
     "output_type": "execute_result"
    }
   ],
   "source": [
    "y_train.shape"
   ]
  },
  {
   "cell_type": "code",
   "execution_count": 128,
   "id": "d90f5b3f",
   "metadata": {},
   "outputs": [
    {
     "data": {
      "text/plain": [
       "(100, 1)"
      ]
     },
     "execution_count": 128,
     "metadata": {},
     "output_type": "execute_result"
    }
   ],
   "source": [
    "y_test.shape"
   ]
  },
  {
   "cell_type": "code",
   "execution_count": 129,
   "id": "d979e90e",
   "metadata": {},
   "outputs": [
    {
     "data": {
      "text/plain": [
       "LinearRegression()"
      ]
     },
     "execution_count": 129,
     "metadata": {},
     "output_type": "execute_result"
    }
   ],
   "source": [
    "# https://scikit-learn.org/stable/modules/generated/sklearn.linear_model.LinearRegression.html\n",
    "# Build the model using the train data\n",
    "# if you set fit_intercept = False, so b coefficient (intercept) will be zero\n",
    "regression_model_sklearn = LinearRegression(fit_intercept = True)\n",
    "regression_model_sklearn.fit(x_train, y_train)"
   ]
  },
  {
   "cell_type": "code",
   "execution_count": 130,
   "id": "2b71c2fa",
   "metadata": {},
   "outputs": [
    {
     "data": {
      "text/plain": [
       "0.9807948723837738"
      ]
     },
     "execution_count": 130,
     "metadata": {},
     "output_type": "execute_result"
    }
   ],
   "source": [
    "# Return the coefficient of determination of the prediction (R²). \n",
    "# The coefficient of determination (R²) is a number between 0 and 1 that measures how well a statistical model predicts an outcome\n",
    "# It show show % of variation in y is explained by the variation in x.\n",
    "# check the model accuracy using the test data\n",
    "regression_model_sklearn_accuracy = regression_model_sklearn.score(x_test, y_test)\n",
    "regression_model_sklearn_accuracy"
   ]
  },
  {
   "cell_type": "code",
   "execution_count": 131,
   "id": "2d56b82d",
   "metadata": {},
   "outputs": [
    {
     "name": "stdout",
     "output_type": "stream",
     "text": [
      "Linear Model Coefficient (m):  [[21.47491]]\n",
      "Linear Model Coefficient (b):  [43.817078]\n"
     ]
    }
   ],
   "source": [
    "print('Linear Model Coefficient (m): ', regression_model_sklearn.coef_)\n",
    "print('Linear Model Coefficient (b): ', regression_model_sklearn.intercept_)"
   ]
  },
  {
   "cell_type": "code",
   "execution_count": 132,
   "id": "c5b501f9",
   "metadata": {},
   "outputs": [
    {
     "data": {
      "text/plain": [
       "array([[ 652.31647],\n",
       "       [ 360.34763],\n",
       "       [ 819.417  ],\n",
       "       [ 537.81494],\n",
       "       [ 622.71027],\n",
       "       [ 509.90753],\n",
       "       [ 757.5502 ],\n",
       "       [ 912.9924 ],\n",
       "       [ 863.8408 ],\n",
       "       [ 472.9474 ],\n",
       "       [ 550.1335 ],\n",
       "       [ 679.24854],\n",
       "       [ 748.3022 ],\n",
       "       [ 546.5995 ],\n",
       "       [ 352.714  ],\n",
       "       [ 571.7973 ],\n",
       "       [ 800.1041 ],\n",
       "       [ 530.29114],\n",
       "       [ 746.39844],\n",
       "       [ 570.572  ],\n",
       "       [ 673.14014],\n",
       "       [ 236.91432],\n",
       "       [ 414.52087],\n",
       "       [ 645.09784],\n",
       "       [ 309.07693],\n",
       "       [ 892.9331 ],\n",
       "       [ 313.7892 ],\n",
       "       [ 521.6068 ],\n",
       "       [ 719.6588 ],\n",
       "       [ 474.39304],\n",
       "       [ 797.4747 ],\n",
       "       [ 390.5472 ],\n",
       "       [ 764.3308 ],\n",
       "       [ 468.48663],\n",
       "       [ 671.7811 ],\n",
       "       [ 260.6416 ],\n",
       "       [ 604.78766],\n",
       "       [ 497.8836 ],\n",
       "       [ 642.6903 ],\n",
       "       [ 944.1408 ],\n",
       "       [ 696.81793],\n",
       "       [ 493.38593],\n",
       "       [ 184.31699],\n",
       "       [ 292.82086],\n",
       "       [ 564.3769 ],\n",
       "       [ 599.2859 ],\n",
       "       [ 804.98553],\n",
       "       [ 364.46985],\n",
       "       [ 267.22964],\n",
       "       [ 697.25116],\n",
       "       [ 472.8314 ],\n",
       "       [ 257.586  ],\n",
       "       [ 688.67017],\n",
       "       [ 447.0478 ],\n",
       "       [ 168.85114],\n",
       "       [ 253.89284],\n",
       "       [ 485.40598],\n",
       "       [1010.18805],\n",
       "       [ 231.85149],\n",
       "       [ 566.7119 ],\n",
       "       [ 627.68805],\n",
       "       [ 587.85004],\n",
       "       [ 370.54858],\n",
       "       [ 638.78076],\n",
       "       [ 509.4882 ],\n",
       "       [ 507.7158 ],\n",
       "       [ 307.99316],\n",
       "       [ 380.46823],\n",
       "       [ 655.099  ],\n",
       "       [ 650.75885],\n",
       "       [ 739.8026 ],\n",
       "       [ 509.75357],\n",
       "       [ 511.4536 ],\n",
       "       [ 378.5693 ],\n",
       "       [ 841.1176 ],\n",
       "       [ 784.1038 ],\n",
       "       [ 803.1648 ],\n",
       "       [ 675.8361 ],\n",
       "       [ 483.5164 ],\n",
       "       [ 671.98236],\n",
       "       [ 620.9543 ],\n",
       "       [ 294.95624],\n",
       "       [ 352.61978],\n",
       "       [ 591.42053],\n",
       "       [ 492.57013],\n",
       "       [ 654.4898 ],\n",
       "       [ 494.9415 ],\n",
       "       [ 467.3309 ],\n",
       "       [ 630.35724],\n",
       "       [ 469.33466],\n",
       "       [ 443.30948],\n",
       "       [ 395.2528 ],\n",
       "       [ 524.58887],\n",
       "       [ 640.61676],\n",
       "       [ 659.0559 ],\n",
       "       [ 470.07776],\n",
       "       [ 545.2355 ],\n",
       "       [ 500.84433],\n",
       "       [ 580.4433 ],\n",
       "       [ 447.0162 ]], dtype=float32)"
      ]
     },
     "execution_count": 132,
     "metadata": {},
     "output_type": "execute_result"
    }
   ],
   "source": [
    "# predicting using the test data\n",
    "y_predict = regression_model_sklearn.predict(x_test)\n",
    "y_predict"
   ]
  },
  {
   "cell_type": "code",
   "execution_count": 133,
   "id": "7ddff684",
   "metadata": {},
   "outputs": [
    {
     "data": {
      "image/png": "[encoded data removed]",
      "text/plain": [
       "<Figure size 720x432 with 1 Axes>"
      ]
     },
     "metadata": {
      "needs_background": "light"
     },
     "output_type": "display_data"
    }
   ],
   "source": [
    "# evaluating the model performance\n",
    "plt.figure(figsize = (10, 6))\n",
    "plt.scatter(x_train, y_train, color = 'b')\n",
    "plt.plot(x_train, regression_model_sklearn.predict(x_train), color = 'red')\n",
    "plt.ylabel('Revenue ($)')\n",
    "plt.xlabel('Temperature (Celsius)')\n",
    "plt.title('Revenue vs Temperature')\n",
    "plt.grid()"
   ]
  },
  {
   "cell_type": "code",
   "execution_count": 134,
   "id": "37d962a2",
   "metadata": {},
   "outputs": [
    {
     "data": {
      "image/png": "[encoded data removed]",
      "text/plain": [
       "<Figure size 720x432 with 1 Axes>"
      ]
     },
     "metadata": {
      "needs_background": "light"
     },
     "output_type": "display_data"
    }
   ],
   "source": [
    "plt.figure(figsize = (10, 6))\n",
    "plt.scatter(x_test, y_test, color = 'b')\n",
    "plt.plot(x_test, regression_model_sklearn.predict(x_test), color = 'red')\n",
    "plt.ylabel('Revenue ($)')\n",
    "plt.xlabel('Temperature (Celsius)')\n",
    "plt.title('Revenue vs. Temperature')\n",
    "plt.grid()"
   ]
  },
  {
   "cell_type": "code",
   "execution_count": 135,
   "id": "643e5667",
   "metadata": {},
   "outputs": [
    {
     "name": "stdout",
     "output_type": "stream",
     "text": [
      "[[258.566185]]\n"
     ]
    }
   ],
   "source": [
    "# using the model\n",
    "temperature = [[10]]\n",
    "revenue = regression_model_sklearn.predict(temperature)\n",
    "print(revenue)"
   ]
  },
  {
   "cell_type": "code",
   "execution_count": 136,
   "id": "9bca0469",
   "metadata": {},
   "outputs": [
    {
     "name": "stdout",
     "output_type": "stream",
     "text": [
      "[[688.06439972]]\n"
     ]
    }
   ],
   "source": [
    "temperature = [[30]]\n",
    "revenue = regression_model_sklearn.predict(temperature)\n",
    "print(revenue)"
   ]
  },
  {
   "cell_type": "code",
   "execution_count": null,
   "id": "99245844",
   "metadata": {},
   "outputs": [],
   "source": []
  },
  {
   "cell_type": "code",
   "execution_count": null,
   "id": "301ea31e",
   "metadata": {},
   "outputs": [],
   "source": []
  },
  {
   "cell_type": "code",
   "execution_count": null,
   "id": "2109dc11",
   "metadata": {},
   "outputs": [],
   "source": []
  }
 ],
 "metadata": {
  "kernelspec": {
   "display_name": "conda_python3",
   "language": "python",
   "name": "conda_python3"
  },
  "language_info": {
   "codemirror_mode": {
    "name": "ipython",
    "version": 3
   },
   "file_extension": ".py",
   "mimetype": "text/x-python",
   "name": "python",
   "nbconvert_exporter": "python",
   "pygments_lexer": "ipython3",
   "version": "3.6.13"
  }
 },
 "nbformat": 4,
 "nbformat_minor": 5
}
